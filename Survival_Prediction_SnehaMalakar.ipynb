{
  "nbformat": 4,
  "nbformat_minor": 0,
  "metadata": {
    "colab": {
      "provenance": []
    },
    "kernelspec": {
      "name": "python3",
      "display_name": "Python 3"
    },
    "language_info": {
      "name": "python"
    },
    "widgets": {
      "application/vnd.jupyter.widget-state+json": {
        "4daffb8ffbad40289f7d24c1c0aa0b33": {
          "model_module": "@jupyter-widgets/controls",
          "model_name": "HBoxModel",
          "model_module_version": "1.5.0",
          "state": {
            "_view_name": "HBoxView",
            "_dom_classes": [],
            "_model_name": "HBoxModel",
            "_view_module": "@jupyter-widgets/controls",
            "_model_module_version": "1.5.0",
            "_view_count": null,
            "_view_module_version": "1.5.0",
            "box_style": "",
            "layout": "IPY_MODEL_9e056b600d9c4b28b1f3b2d47fa7abae",
            "_model_module": "@jupyter-widgets/controls",
            "children": [
              "IPY_MODEL_b6b66909ecda4917a3e7053e2f96d1be",
              "IPY_MODEL_338a8bc6dde742f08597dbb5a7f909d2",
              "IPY_MODEL_f3e308673fae4438b687cc364079082d"
            ]
          }
        },
        "9e056b600d9c4b28b1f3b2d47fa7abae": {
          "model_module": "@jupyter-widgets/base",
          "model_name": "LayoutModel",
          "model_module_version": "1.2.0",
          "state": {
            "_view_name": "LayoutView",
            "grid_template_rows": null,
            "right": null,
            "justify_content": null,
            "_view_module": "@jupyter-widgets/base",
            "overflow": null,
            "_model_module_version": "1.2.0",
            "_view_count": null,
            "flex_flow": null,
            "width": null,
            "min_width": null,
            "border": null,
            "align_items": null,
            "bottom": null,
            "_model_module": "@jupyter-widgets/base",
            "top": null,
            "grid_column": null,
            "overflow_y": null,
            "overflow_x": null,
            "grid_auto_flow": null,
            "grid_area": null,
            "grid_template_columns": null,
            "flex": null,
            "_model_name": "LayoutModel",
            "justify_items": null,
            "grid_row": null,
            "max_height": null,
            "align_content": null,
            "visibility": null,
            "align_self": null,
            "height": null,
            "min_height": null,
            "padding": null,
            "grid_auto_rows": null,
            "grid_gap": null,
            "max_width": null,
            "order": null,
            "_view_module_version": "1.2.0",
            "grid_template_areas": null,
            "object_position": null,
            "object_fit": null,
            "grid_auto_columns": null,
            "margin": null,
            "display": null,
            "left": null
          }
        },
        "b6b66909ecda4917a3e7053e2f96d1be": {
          "model_module": "@jupyter-widgets/controls",
          "model_name": "HTMLModel",
          "model_module_version": "1.5.0",
          "state": {
            "_view_name": "HTMLView",
            "style": "IPY_MODEL_64185f3e4f9743ddbf21699004caff3c",
            "_dom_classes": [],
            "description": "",
            "_model_name": "HTMLModel",
            "placeholder": "​",
            "_view_module": "@jupyter-widgets/controls",
            "_model_module_version": "1.5.0",
            "value": "Dl Completed...: 100%",
            "_view_count": null,
            "_view_module_version": "1.5.0",
            "description_tooltip": null,
            "_model_module": "@jupyter-widgets/controls",
            "layout": "IPY_MODEL_070c5a33366545e19a16292e1160f5fc"
          }
        },
        "338a8bc6dde742f08597dbb5a7f909d2": {
          "model_module": "@jupyter-widgets/controls",
          "model_name": "FloatProgressModel",
          "model_module_version": "1.5.0",
          "state": {
            "_view_name": "ProgressView",
            "style": "IPY_MODEL_5e2e4b75451741d1b405b882d4d4ed7b",
            "_dom_classes": [],
            "description": "",
            "_model_name": "FloatProgressModel",
            "bar_style": "success",
            "max": 5,
            "_view_module": "@jupyter-widgets/controls",
            "_model_module_version": "1.5.0",
            "value": 5,
            "_view_count": null,
            "_view_module_version": "1.5.0",
            "orientation": "horizontal",
            "min": 0,
            "description_tooltip": null,
            "_model_module": "@jupyter-widgets/controls",
            "layout": "IPY_MODEL_d598c19edc4b47c88a15863e0177bc3e"
          }
        },
        "f3e308673fae4438b687cc364079082d": {
          "model_module": "@jupyter-widgets/controls",
          "model_name": "HTMLModel",
          "model_module_version": "1.5.0",
          "state": {
            "_view_name": "HTMLView",
            "style": "IPY_MODEL_1c1a7c547b4b481180f076e227af5555",
            "_dom_classes": [],
            "description": "",
            "_model_name": "HTMLModel",
            "placeholder": "​",
            "_view_module": "@jupyter-widgets/controls",
            "_model_module_version": "1.5.0",
            "value": " 5/5 [00:02&lt;00:00,  2.49 file/s]",
            "_view_count": null,
            "_view_module_version": "1.5.0",
            "description_tooltip": null,
            "_model_module": "@jupyter-widgets/controls",
            "layout": "IPY_MODEL_c130c19da7774bedb64f9bcff62edb58"
          }
        },
        "64185f3e4f9743ddbf21699004caff3c": {
          "model_module": "@jupyter-widgets/controls",
          "model_name": "DescriptionStyleModel",
          "model_module_version": "1.5.0",
          "state": {
            "_view_name": "StyleView",
            "_model_name": "DescriptionStyleModel",
            "description_width": "",
            "_view_module": "@jupyter-widgets/base",
            "_model_module_version": "1.5.0",
            "_view_count": null,
            "_view_module_version": "1.2.0",
            "_model_module": "@jupyter-widgets/controls"
          }
        },
        "070c5a33366545e19a16292e1160f5fc": {
          "model_module": "@jupyter-widgets/base",
          "model_name": "LayoutModel",
          "model_module_version": "1.2.0",
          "state": {
            "_view_name": "LayoutView",
            "grid_template_rows": null,
            "right": null,
            "justify_content": null,
            "_view_module": "@jupyter-widgets/base",
            "overflow": null,
            "_model_module_version": "1.2.0",
            "_view_count": null,
            "flex_flow": null,
            "width": null,
            "min_width": null,
            "border": null,
            "align_items": null,
            "bottom": null,
            "_model_module": "@jupyter-widgets/base",
            "top": null,
            "grid_column": null,
            "overflow_y": null,
            "overflow_x": null,
            "grid_auto_flow": null,
            "grid_area": null,
            "grid_template_columns": null,
            "flex": null,
            "_model_name": "LayoutModel",
            "justify_items": null,
            "grid_row": null,
            "max_height": null,
            "align_content": null,
            "visibility": null,
            "align_self": null,
            "height": null,
            "min_height": null,
            "padding": null,
            "grid_auto_rows": null,
            "grid_gap": null,
            "max_width": null,
            "order": null,
            "_view_module_version": "1.2.0",
            "grid_template_areas": null,
            "object_position": null,
            "object_fit": null,
            "grid_auto_columns": null,
            "margin": null,
            "display": null,
            "left": null
          }
        },
        "5e2e4b75451741d1b405b882d4d4ed7b": {
          "model_module": "@jupyter-widgets/controls",
          "model_name": "ProgressStyleModel",
          "model_module_version": "1.5.0",
          "state": {
            "_view_name": "StyleView",
            "_model_name": "ProgressStyleModel",
            "description_width": "",
            "_view_module": "@jupyter-widgets/base",
            "_model_module_version": "1.5.0",
            "_view_count": null,
            "_view_module_version": "1.2.0",
            "bar_color": null,
            "_model_module": "@jupyter-widgets/controls"
          }
        },
        "d598c19edc4b47c88a15863e0177bc3e": {
          "model_module": "@jupyter-widgets/base",
          "model_name": "LayoutModel",
          "model_module_version": "1.2.0",
          "state": {
            "_view_name": "LayoutView",
            "grid_template_rows": null,
            "right": null,
            "justify_content": null,
            "_view_module": "@jupyter-widgets/base",
            "overflow": null,
            "_model_module_version": "1.2.0",
            "_view_count": null,
            "flex_flow": null,
            "width": null,
            "min_width": null,
            "border": null,
            "align_items": null,
            "bottom": null,
            "_model_module": "@jupyter-widgets/base",
            "top": null,
            "grid_column": null,
            "overflow_y": null,
            "overflow_x": null,
            "grid_auto_flow": null,
            "grid_area": null,
            "grid_template_columns": null,
            "flex": null,
            "_model_name": "LayoutModel",
            "justify_items": null,
            "grid_row": null,
            "max_height": null,
            "align_content": null,
            "visibility": null,
            "align_self": null,
            "height": null,
            "min_height": null,
            "padding": null,
            "grid_auto_rows": null,
            "grid_gap": null,
            "max_width": null,
            "order": null,
            "_view_module_version": "1.2.0",
            "grid_template_areas": null,
            "object_position": null,
            "object_fit": null,
            "grid_auto_columns": null,
            "margin": null,
            "display": null,
            "left": null
          }
        },
        "1c1a7c547b4b481180f076e227af5555": {
          "model_module": "@jupyter-widgets/controls",
          "model_name": "DescriptionStyleModel",
          "model_module_version": "1.5.0",
          "state": {
            "_view_name": "StyleView",
            "_model_name": "DescriptionStyleModel",
            "description_width": "",
            "_view_module": "@jupyter-widgets/base",
            "_model_module_version": "1.5.0",
            "_view_count": null,
            "_view_module_version": "1.2.0",
            "_model_module": "@jupyter-widgets/controls"
          }
        },
        "c130c19da7774bedb64f9bcff62edb58": {
          "model_module": "@jupyter-widgets/base",
          "model_name": "LayoutModel",
          "model_module_version": "1.2.0",
          "state": {
            "_view_name": "LayoutView",
            "grid_template_rows": null,
            "right": null,
            "justify_content": null,
            "_view_module": "@jupyter-widgets/base",
            "overflow": null,
            "_model_module_version": "1.2.0",
            "_view_count": null,
            "flex_flow": null,
            "width": null,
            "min_width": null,
            "border": null,
            "align_items": null,
            "bottom": null,
            "_model_module": "@jupyter-widgets/base",
            "top": null,
            "grid_column": null,
            "overflow_y": null,
            "overflow_x": null,
            "grid_auto_flow": null,
            "grid_area": null,
            "grid_template_columns": null,
            "flex": null,
            "_model_name": "LayoutModel",
            "justify_items": null,
            "grid_row": null,
            "max_height": null,
            "align_content": null,
            "visibility": null,
            "align_self": null,
            "height": null,
            "min_height": null,
            "padding": null,
            "grid_auto_rows": null,
            "grid_gap": null,
            "max_width": null,
            "order": null,
            "_view_module_version": "1.2.0",
            "grid_template_areas": null,
            "object_position": null,
            "object_fit": null,
            "grid_auto_columns": null,
            "margin": null,
            "display": null,
            "left": null
          }
        }
      }
    }
  },
  "cells": [
    {
      "cell_type": "markdown",
      "metadata": {
        "id": "pkFnfAnx7JKP"
      },
      "source": [
        "###Sneha Malakar\n",
        "###CMPS 325\n",
        "###12/13/2021\n",
        "\n",
        "# Project Two\n",
        "\n",
        "This project involves observing the progress of several different network architectures learning an image classification task.\n",
        "\n",
        "Note that each network does require the cells before Part One to have been run, but they do not require the networks before them to have run. So you can break up your work and not have to run all the networks just to re-run the last one.\n",
        "\n",
        "You should set the runtime type to GPU under the Runtime menu to speed the computations. Note that this may restrict you to having one notebook open at a time."
      ]
    },
    {
      "cell_type": "markdown",
      "metadata": {
        "id": "k_DPcmSw5teg"
      },
      "source": [
        "See a List of TensorFlow datasets at: https://knowyourdata-tfds.withgoogle.com/\n",
        "\n",
        "See how to load them:\n",
        "https://www.tensorflow.org/datasets/overview\n",
        "\n",
        "See data augmentation discussion: https://www.tensorflow.org/tutorials/images/data_augmentation"
      ]
    },
    {
      "cell_type": "code",
      "source": [
        "from google.colab import drive\n",
        "drive.mount('/content/drive')"
      ],
      "metadata": {
        "colab": {
          "base_uri": "https://localhost:8080/"
        },
        "id": "xpytHDJWQodr",
        "outputId": "4369d2c1-04fd-4619-8ab1-bad95b74049f"
      },
      "execution_count": null,
      "outputs": [
        {
          "output_type": "stream",
          "name": "stdout",
          "text": [
            "Mounted at /content/drive\n"
          ]
        }
      ]
    },
    {
      "cell_type": "code",
      "metadata": {
        "id": "_YF3LzdL4PJv"
      },
      "source": [
        "# TensorFlow\n",
        "import tensorflow as tf\n",
        "\n",
        "# Datasets\n",
        "import tensorflow_datasets as tfds"
      ],
      "execution_count": null,
      "outputs": []
    },
    {
      "cell_type": "code",
      "metadata": {
        "colab": {
          "base_uri": "https://localhost:8080/",
          "height": 587,
          "referenced_widgets": [
            "4daffb8ffbad40289f7d24c1c0aa0b33",
            "9e056b600d9c4b28b1f3b2d47fa7abae",
            "b6b66909ecda4917a3e7053e2f96d1be",
            "338a8bc6dde742f08597dbb5a7f909d2",
            "f3e308673fae4438b687cc364079082d",
            "64185f3e4f9743ddbf21699004caff3c",
            "070c5a33366545e19a16292e1160f5fc",
            "5e2e4b75451741d1b405b882d4d4ed7b",
            "d598c19edc4b47c88a15863e0177bc3e",
            "1c1a7c547b4b481180f076e227af5555",
            "c130c19da7774bedb64f9bcff62edb58"
          ]
        },
        "id": "GT_9mP384THL",
        "outputId": "2724b235-1d55-420a-facb-0f524b744f56"
      },
      "source": [
        "# Load in the tf_flowers dataset\n",
        "# Separate into training, testing and validation sets\n",
        "\n",
        "train_split = 'train[:80%]'\n",
        "validation_split = 'train[80%:90%]'\n",
        "test_split = 'train[90%:]'\n",
        "(ds_train, ds_validation, ds_test), ds_info = tfds.load(\n",
        "    'tf_flowers',\n",
        "    split=[train_split, validation_split, test_split],\n",
        "    shuffle_files=True,\n",
        "    as_supervised=True,\n",
        "    with_info=True,\n",
        ")\n",
        "\n",
        "print(ds_info)"
      ],
      "execution_count": null,
      "outputs": [
        {
          "output_type": "stream",
          "name": "stdout",
          "text": [
            "\u001b[1mDownloading and preparing dataset tf_flowers/3.0.1 (download: 218.21 MiB, generated: 221.83 MiB, total: 440.05 MiB) to /root/tensorflow_datasets/tf_flowers/3.0.1...\u001b[0m\n"
          ]
        },
        {
          "output_type": "stream",
          "name": "stderr",
          "text": [
            "WARNING:absl:Dataset tf_flowers is hosted on GCS. It will automatically be downloaded to your\n",
            "local data directory. If you'd instead prefer to read directly from our public\n",
            "GCS bucket (recommended if you're running on GCP), you can instead pass\n",
            "`try_gcs=True` to `tfds.load` or set `data_dir=gs://tfds-data/datasets`.\n",
            "\n"
          ]
        },
        {
          "output_type": "display_data",
          "data": {
            "application/vnd.jupyter.widget-view+json": {
              "model_id": "4daffb8ffbad40289f7d24c1c0aa0b33",
              "version_minor": 0,
              "version_major": 2
            },
            "text/plain": [
              "Dl Completed...:   0%|          | 0/5 [00:00<?, ? file/s]"
            ]
          },
          "metadata": {}
        },
        {
          "output_type": "stream",
          "name": "stdout",
          "text": [
            "\n",
            "\u001b[1mDataset tf_flowers downloaded and prepared to /root/tensorflow_datasets/tf_flowers/3.0.1. Subsequent calls will reuse this data.\u001b[0m\n",
            "tfds.core.DatasetInfo(\n",
            "    name='tf_flowers',\n",
            "    version=3.0.1,\n",
            "    description='A large set of images of flowers',\n",
            "    homepage='https://www.tensorflow.org/tutorials/load_data/images',\n",
            "    features=FeaturesDict({\n",
            "        'image': Image(shape=(None, None, 3), dtype=tf.uint8),\n",
            "        'label': ClassLabel(shape=(), dtype=tf.int64, num_classes=5),\n",
            "    }),\n",
            "    total_num_examples=3670,\n",
            "    splits={\n",
            "        'train': 3670,\n",
            "    },\n",
            "    supervised_keys=('image', 'label'),\n",
            "    citation=\"\"\"@ONLINE {tfflowers,\n",
            "    author = \"The TensorFlow Team\",\n",
            "    title = \"Flowers\",\n",
            "    month = \"jan\",\n",
            "    year = \"2019\",\n",
            "    url = \"http://download.tensorflow.org/example_images/flower_photos.tgz\" }\"\"\",\n",
            "    redistribution_info=,\n",
            ")\n",
            "\n"
          ]
        }
      ]
    },
    {
      "cell_type": "code",
      "metadata": {
        "id": "eT3Sd8PsPapw"
      },
      "source": [
        "# Set some network parameters\n",
        "\n",
        "# Number of classes in the dataset\n",
        "num_classes = ds_info.features['label'].num_classes\n",
        "# Size of each image dimension (width and height)\n",
        "img_size = 80\n",
        "# Size of a batch of images\n",
        "batch_size = 128\n",
        "\n",
        "# Function to apply to each image to prepare it for training and inference\n",
        "def process_img(image, label):\n",
        "  # Resize the images, pad if needed to preserve aspect ratio\n",
        "  #image = tf.image.resize_with_pad(image, img_size, img_size)\n",
        "  image = tf.image.resize(image, (img_size, img_size))\n",
        "  # Change from ints in range 0-255 to floats in range 0-1\n",
        "  image = tf.cast(image, tf.float32) / 255.\n",
        "  # Change label from integer to one-hot vector\n",
        "  label = tf.one_hot(label, num_classes)\n",
        "  return image, label\n",
        "\n",
        "# Setup data pipeline\n",
        "# Training images should be shuffled\n",
        "train = ds_train.map(\n",
        "    process_img, \n",
        "    num_parallel_calls=tf.data.AUTOTUNE\n",
        "    ).cache().shuffle(ds_info.splits[train_split].num_examples).batch(128).prefetch(tf.data.AUTOTUNE)\n",
        "\n",
        "# Validation data for tuning hyperparameters\n",
        "validation = ds_validation.map(\n",
        "    process_img, \n",
        "    num_parallel_calls=tf.data.AUTOTUNE\n",
        "    ).cache().batch(batch_size).prefetch(tf.data.AUTOTUNE)\n",
        "\n",
        "# Test data for final evaluation\n",
        "test = ds_test.map(\n",
        "    process_img, \n",
        "    num_parallel_calls=tf.data.AUTOTUNE\n",
        "    ).cache().batch(batch_size).prefetch(tf.data.AUTOTUNE)"
      ],
      "execution_count": null,
      "outputs": []
    },
    {
      "cell_type": "markdown",
      "metadata": {
        "id": "IcX4tXKMMfBm"
      },
      "source": [
        "## Part One - Basic Two-Layer Network\n",
        "\n",
        "Build the network and the train the model using the cells below."
      ]
    },
    {
      "cell_type": "code",
      "metadata": {
        "id": "scxW18fTaG2T"
      },
      "source": [
        "# Basic two-layer network\n",
        "two_layer_model = tf.keras.Sequential([\n",
        "  tf.keras.layers.Flatten(),\n",
        "  tf.keras.layers.Dense(192, activation='relu'),\n",
        "  tf.keras.layers.Dense(64, activation='relu'),\n",
        "  tf.keras.layers.Dense(num_classes, activation='softmax'),\n",
        "])\n",
        "two_layer_model.compile(optimizer=tf.keras.optimizers.RMSprop(learning_rate=0.001),\n",
        "              loss=tf.keras.losses.CategoricalCrossentropy(),\n",
        "              metrics=[tf.keras.metrics.CategoricalAccuracy()])"
      ],
      "execution_count": null,
      "outputs": []
    },
    {
      "cell_type": "code",
      "metadata": {
        "id": "_Ir5jOzsVqat",
        "colab": {
          "base_uri": "https://localhost:8080/"
        },
        "outputId": "877141fc-34cc-41e8-cd9b-05c16237d8af"
      },
      "source": [
        "# Train the model\n",
        "# Watch the training and validation accuracy over time\n",
        "# A notably higher training accuracy means overfitting\n",
        "epochs=10\n",
        "history = two_layer_model.fit(\n",
        "  train,\n",
        "  validation_data=validation,\n",
        "  epochs=epochs\n",
        ")"
      ],
      "execution_count": null,
      "outputs": [
        {
          "output_type": "stream",
          "name": "stdout",
          "text": [
            "Epoch 1/10\n",
            "23/23 [==============================] - 7s 112ms/step - loss: 9.6443 - categorical_accuracy: 0.2391 - val_loss: 3.8132 - val_categorical_accuracy: 0.2371\n",
            "Epoch 2/10\n",
            "23/23 [==============================] - 2s 78ms/step - loss: 3.8576 - categorical_accuracy: 0.2708 - val_loss: 3.5124 - val_categorical_accuracy: 0.2371\n",
            "Epoch 3/10\n",
            "23/23 [==============================] - 2s 78ms/step - loss: 3.2659 - categorical_accuracy: 0.3052 - val_loss: 1.6714 - val_categorical_accuracy: 0.3706\n",
            "Epoch 4/10\n",
            "23/23 [==============================] - 2s 76ms/step - loss: 2.9938 - categorical_accuracy: 0.3171 - val_loss: 1.9586 - val_categorical_accuracy: 0.3787\n",
            "Epoch 5/10\n",
            "23/23 [==============================] - 2s 76ms/step - loss: 2.3091 - categorical_accuracy: 0.3331 - val_loss: 1.9611 - val_categorical_accuracy: 0.3433\n",
            "Epoch 6/10\n",
            "23/23 [==============================] - 2s 78ms/step - loss: 2.2538 - categorical_accuracy: 0.3341 - val_loss: 1.7681 - val_categorical_accuracy: 0.3079\n",
            "Epoch 7/10\n",
            "23/23 [==============================] - 2s 78ms/step - loss: 1.7998 - categorical_accuracy: 0.3747 - val_loss: 2.0337 - val_categorical_accuracy: 0.3052\n",
            "Epoch 8/10\n",
            "23/23 [==============================] - 2s 78ms/step - loss: 1.6850 - categorical_accuracy: 0.4043 - val_loss: 1.6970 - val_categorical_accuracy: 0.3651\n",
            "Epoch 9/10\n",
            "23/23 [==============================] - 2s 77ms/step - loss: 1.6033 - categorical_accuracy: 0.3965 - val_loss: 1.7942 - val_categorical_accuracy: 0.3406\n",
            "Epoch 10/10\n",
            "23/23 [==============================] - 2s 77ms/step - loss: 1.5334 - categorical_accuracy: 0.4172 - val_loss: 1.5248 - val_categorical_accuracy: 0.3542\n"
          ]
        }
      ]
    },
    {
      "cell_type": "code",
      "metadata": {
        "colab": {
          "base_uri": "https://localhost:8080/"
        },
        "id": "KOvq2EqDwN4l",
        "outputId": "198b2fc6-9d16-485a-a7a2-e5ba79fd7aa7"
      },
      "source": [
        "# How big is this model?\n",
        "two_layer_model.summary()"
      ],
      "execution_count": null,
      "outputs": [
        {
          "output_type": "stream",
          "name": "stdout",
          "text": [
            "Model: \"sequential\"\n",
            "_________________________________________________________________\n",
            " Layer (type)                Output Shape              Param #   \n",
            "=================================================================\n",
            " flatten (Flatten)           (None, 19200)             0         \n",
            "                                                                 \n",
            " dense (Dense)               (None, 192)               3686592   \n",
            "                                                                 \n",
            " dense_1 (Dense)             (None, 64)                12352     \n",
            "                                                                 \n",
            " dense_2 (Dense)             (None, 5)                 325       \n",
            "                                                                 \n",
            "=================================================================\n",
            "Total params: 3,699,269\n",
            "Trainable params: 3,699,269\n",
            "Non-trainable params: 0\n",
            "_________________________________________________________________\n"
          ]
        }
      ]
    },
    {
      "cell_type": "markdown",
      "metadata": {
        "id": "pmpCIreENB74"
      },
      "source": [
        "### Questions\n",
        "1. How did the network do? What were the final training and validation accuracies?\n",
        "\n",
        "The network did not do good because we can see a high values for loss and low values for accuracies. The categorical accuracy is 41.7% whereas the validation categorical accuracy is 35.4%\n",
        "\n",
        "2. Is there evidence of overfitting?\n",
        "\n",
        "There is evidence of overfitting because overfitting takes place when the validation accuracy is less then training accuracy. \n",
        "\n",
        "3. Why do you think the network had trouble? What are the limitations of this architecture?\n",
        "\n",
        "I think the network had trouble because the two layer network is not sufficient to handle a non linear data set. Another limitation is the overfitting."
      ]
    },
    {
      "cell_type": "markdown",
      "metadata": {
        "id": "8ZWrtKHQNCIZ"
      },
      "source": [
        "## Part Two - Basic Convolutional Network\n",
        "\n",
        "Build the network and the train the model using the cells below."
      ]
    },
    {
      "cell_type": "code",
      "metadata": {
        "id": "L1uCQ98hqeip"
      },
      "source": [
        "# A basic convolutional neural network with two sets of convolution/pooling layers\n",
        "# Notice that typically only one hidden dense layer is used\n",
        "basic_conv_model = tf.keras.Sequential([\n",
        "  tf.keras.layers.Conv2D(16, 3, padding='same', activation='relu'),\n",
        "  tf.keras.layers.MaxPooling2D(),\n",
        "  tf.keras.layers.Conv2D(24, 3, padding='same', activation='relu'),\n",
        "  tf.keras.layers.MaxPooling2D(),\n",
        "  tf.keras.layers.Flatten(),\n",
        "  tf.keras.layers.Dense(192, activation='relu'),\n",
        "  tf.keras.layers.Dense(num_classes, activation='softmax'),\n",
        "])\n",
        "basic_conv_model.compile(optimizer=tf.keras.optimizers.RMSprop(learning_rate=0.001),\n",
        "              loss=tf.keras.losses.CategoricalCrossentropy(),\n",
        "              metrics=[tf.keras.metrics.CategoricalAccuracy()])"
      ],
      "execution_count": null,
      "outputs": []
    },
    {
      "cell_type": "code",
      "metadata": {
        "colab": {
          "base_uri": "https://localhost:8080/"
        },
        "id": "4yypyYUBql4H",
        "outputId": "fbe69380-0ab6-46a2-c834-b4c9c3ab88f9"
      },
      "source": [
        "# Train the model\n",
        "# Watch the training and validation accuracy over time\n",
        "# A notably higher training accuracy means overfitting\n",
        "epochs=10\n",
        "history = basic_conv_model.fit(\n",
        "  train,\n",
        "  validation_data=validation,\n",
        "  epochs=epochs\n",
        ")"
      ],
      "execution_count": null,
      "outputs": [
        {
          "output_type": "stream",
          "name": "stdout",
          "text": [
            "Epoch 1/10\n",
            "23/23 [==============================] - 15s 624ms/step - loss: 1.9325 - categorical_accuracy: 0.3730 - val_loss: 1.2083 - val_categorical_accuracy: 0.4932\n",
            "Epoch 2/10\n",
            "23/23 [==============================] - 14s 619ms/step - loss: 1.2129 - categorical_accuracy: 0.5027 - val_loss: 1.1784 - val_categorical_accuracy: 0.5477\n",
            "Epoch 3/10\n",
            "23/23 [==============================] - 14s 619ms/step - loss: 1.1099 - categorical_accuracy: 0.5671 - val_loss: 1.0842 - val_categorical_accuracy: 0.5722\n",
            "Epoch 4/10\n",
            "23/23 [==============================] - 14s 616ms/step - loss: 1.0164 - categorical_accuracy: 0.6104 - val_loss: 1.2468 - val_categorical_accuracy: 0.4986\n",
            "Epoch 5/10\n",
            "23/23 [==============================] - 14s 618ms/step - loss: 0.9273 - categorical_accuracy: 0.6471 - val_loss: 1.0031 - val_categorical_accuracy: 0.6131\n",
            "Epoch 6/10\n",
            "23/23 [==============================] - 14s 618ms/step - loss: 0.8632 - categorical_accuracy: 0.6771 - val_loss: 1.0326 - val_categorical_accuracy: 0.5886\n",
            "Epoch 7/10\n",
            "23/23 [==============================] - 14s 619ms/step - loss: 0.7527 - categorical_accuracy: 0.7302 - val_loss: 1.0647 - val_categorical_accuracy: 0.5858\n",
            "Epoch 8/10\n",
            "23/23 [==============================] - 14s 617ms/step - loss: 0.7003 - categorical_accuracy: 0.7452 - val_loss: 1.1033 - val_categorical_accuracy: 0.5668\n",
            "Epoch 9/10\n",
            "23/23 [==============================] - 14s 616ms/step - loss: 0.6148 - categorical_accuracy: 0.7875 - val_loss: 0.9790 - val_categorical_accuracy: 0.6213\n",
            "Epoch 10/10\n",
            "23/23 [==============================] - 14s 617ms/step - loss: 0.5569 - categorical_accuracy: 0.8062 - val_loss: 1.2799 - val_categorical_accuracy: 0.5341\n"
          ]
        }
      ]
    },
    {
      "cell_type": "code",
      "metadata": {
        "colab": {
          "base_uri": "https://localhost:8080/"
        },
        "id": "xbxJjJo8wUWG",
        "outputId": "ea27fbb4-9499-48d9-af5c-dc5f50971013"
      },
      "source": [
        "# How big is this model?\n",
        "basic_conv_model.summary()"
      ],
      "execution_count": null,
      "outputs": [
        {
          "output_type": "stream",
          "name": "stdout",
          "text": [
            "Model: \"sequential_1\"\n",
            "_________________________________________________________________\n",
            " Layer (type)                Output Shape              Param #   \n",
            "=================================================================\n",
            " conv2d (Conv2D)             (None, 80, 80, 16)        448       \n",
            "                                                                 \n",
            " max_pooling2d (MaxPooling2D  (None, 40, 40, 16)       0         \n",
            " )                                                               \n",
            "                                                                 \n",
            " conv2d_1 (Conv2D)           (None, 40, 40, 24)        3480      \n",
            "                                                                 \n",
            " max_pooling2d_1 (MaxPooling  (None, 20, 20, 24)       0         \n",
            " 2D)                                                             \n",
            "                                                                 \n",
            " flatten_1 (Flatten)         (None, 9600)              0         \n",
            "                                                                 \n",
            " dense_3 (Dense)             (None, 192)               1843392   \n",
            "                                                                 \n",
            " dense_4 (Dense)             (None, 5)                 965       \n",
            "                                                                 \n",
            "=================================================================\n",
            "Total params: 1,848,285\n",
            "Trainable params: 1,848,285\n",
            "Non-trainable params: 0\n",
            "_________________________________________________________________\n"
          ]
        }
      ]
    },
    {
      "cell_type": "markdown",
      "metadata": {
        "id": "puqplpWWPGFB"
      },
      "source": [
        "### Questions\n",
        "1. How did the network do? What were the final training and validation accuracies?\n",
        "\n",
        "This network worked better than the two layer network. The final training accuracy was 80.6% whereas the final validation accuracy was 53.4%.\n",
        "\n",
        "2. Is there evidence of overfitting?\n",
        "\n",
        "There is evidence of overfitting because overfitting takes place when the validation accuracy is less then training accuracy. \n",
        "\n",
        "3. What do convolutional networks do to improve learning?\n",
        "\n",
        "Convolutional networks improve learning by decreasing overfittings and recognizing more number of important features. "
      ]
    },
    {
      "cell_type": "markdown",
      "metadata": {
        "id": "zDKrUjoJPU-s"
      },
      "source": [
        "## Augmented Convolutional Neural Network\n",
        "\n",
        "Build the network and the train the model using the cells below."
      ]
    },
    {
      "cell_type": "code",
      "metadata": {
        "id": "0d6PJuXsrG_S"
      },
      "source": [
        "# A convolutional neural network with some features to combat overfitting\n",
        "# Data augmentation spices up the input by applying random transformations\n",
        "# Dropout nulls out neurons randomly forcing the network to develop\n",
        "# redundancy and thus fit less to noise\n",
        "aug_conv_model = tf.keras.Sequential([\n",
        "  tf.keras.layers.RandomFlip(\"horizontal_and_vertical\"),\n",
        "  tf.keras.layers.RandomRotation(0.2),\n",
        "  tf.keras.layers.Conv2D(16, 3, padding='same', activation='relu'),\n",
        "  tf.keras.layers.MaxPooling2D(),\n",
        "  tf.keras.layers.Conv2D(24, 3, padding='same', activation='relu'),\n",
        "  tf.keras.layers.MaxPooling2D(),\n",
        "  tf.keras.layers.Flatten(),\n",
        "  tf.keras.layers.Dense(192, activation='relu'),\n",
        "  tf.keras.layers.Dropout(0.25),\n",
        "  tf.keras.layers.Dense(num_classes, activation='softmax'),\n",
        "])\n",
        "aug_conv_model.compile(optimizer=tf.keras.optimizers.RMSprop(learning_rate=0.001),\n",
        "              loss=tf.keras.losses.CategoricalCrossentropy(),\n",
        "              metrics=[tf.keras.metrics.CategoricalAccuracy()])"
      ],
      "execution_count": null,
      "outputs": []
    },
    {
      "cell_type": "code",
      "metadata": {
        "colab": {
          "base_uri": "https://localhost:8080/"
        },
        "id": "qa5Qbyg8rSAJ",
        "outputId": "5f213bb6-14aa-4604-e642-348d417d5703"
      },
      "source": [
        "# Train the model\n",
        "# Watch the training and validation accuracy over time\n",
        "# A notably higher training accuracy means overfitting\n",
        "epochs=10\n",
        "history = aug_conv_model.fit(\n",
        "  train,\n",
        "  validation_data=validation,\n",
        "  epochs=epochs\n",
        ")"
      ],
      "execution_count": null,
      "outputs": [
        {
          "output_type": "stream",
          "name": "stdout",
          "text": [
            "Epoch 1/10\n",
            "23/23 [==============================] - 18s 705ms/step - loss: 1.6266 - categorical_accuracy: 0.3559 - val_loss: 1.4601 - val_categorical_accuracy: 0.3270\n",
            "Epoch 2/10\n",
            "23/23 [==============================] - 16s 689ms/step - loss: 1.2865 - categorical_accuracy: 0.4445 - val_loss: 1.1738 - val_categorical_accuracy: 0.5259\n",
            "Epoch 3/10\n",
            "23/23 [==============================] - 16s 687ms/step - loss: 1.2150 - categorical_accuracy: 0.4894 - val_loss: 1.1198 - val_categorical_accuracy: 0.5886\n",
            "Epoch 4/10\n",
            "23/23 [==============================] - 16s 690ms/step - loss: 1.1484 - categorical_accuracy: 0.5283 - val_loss: 1.1877 - val_categorical_accuracy: 0.5286\n",
            "Epoch 5/10\n",
            "23/23 [==============================] - 16s 689ms/step - loss: 1.1081 - categorical_accuracy: 0.5565 - val_loss: 1.1589 - val_categorical_accuracy: 0.5477\n",
            "Epoch 6/10\n",
            "23/23 [==============================] - 16s 685ms/step - loss: 1.0746 - categorical_accuracy: 0.5613 - val_loss: 1.0154 - val_categorical_accuracy: 0.6403\n",
            "Epoch 7/10\n",
            "23/23 [==============================] - 16s 688ms/step - loss: 1.0226 - categorical_accuracy: 0.6076 - val_loss: 1.2640 - val_categorical_accuracy: 0.4605\n",
            "Epoch 8/10\n",
            "23/23 [==============================] - 16s 686ms/step - loss: 1.0074 - categorical_accuracy: 0.6046 - val_loss: 0.9848 - val_categorical_accuracy: 0.6403\n",
            "Epoch 9/10\n",
            "23/23 [==============================] - 16s 685ms/step - loss: 1.0005 - categorical_accuracy: 0.6052 - val_loss: 1.0734 - val_categorical_accuracy: 0.5804\n",
            "Epoch 10/10\n",
            "23/23 [==============================] - 16s 681ms/step - loss: 0.9700 - categorical_accuracy: 0.6161 - val_loss: 0.9986 - val_categorical_accuracy: 0.6512\n"
          ]
        }
      ]
    },
    {
      "cell_type": "code",
      "metadata": {
        "colab": {
          "base_uri": "https://localhost:8080/"
        },
        "id": "b_22UK_Uwb-e",
        "outputId": "a4b8ca4c-86b8-4447-f9ed-c507263b78c8"
      },
      "source": [
        "# Evaluate its performance on the test set\n",
        "print(\"Testing Results:\")\n",
        "aug_conv_model.evaluate(test)"
      ],
      "execution_count": null,
      "outputs": [
        {
          "output_type": "stream",
          "name": "stdout",
          "text": [
            "Testing Results:\n",
            "3/3 [==============================] - 1s 244ms/step - loss: 0.8811 - categorical_accuracy: 0.6294\n"
          ]
        },
        {
          "output_type": "execute_result",
          "data": {
            "text/plain": [
              "[0.8810797929763794, 0.6294277906417847]"
            ]
          },
          "metadata": {},
          "execution_count": 13
        }
      ]
    },
    {
      "cell_type": "markdown",
      "metadata": {
        "id": "s0YIR3aDPpGG"
      },
      "source": [
        "### Questions\n",
        "1. How did the network do? What were the final training and validation accuracies?\n",
        "\n",
        "The network did better than the two layer network but worse than the basic convolutional network. The final training accuracy was 61.6% and validation accuracy was 65.1%\n",
        "\n",
        "2. Is there evidence of overfitting?\n",
        "\n",
        "There is evidence of overfitting because overfitting takes place when the validation accuracy is less then training accuracy. \n",
        "\n",
        "3. Is the overfitting reduced compared to the previous network?\n",
        "\n",
        "Yes.\n",
        "\n",
        "4. How did the network do on the test data that it hadn't seen before? Was the accuracy comparable?\n",
        "\n",
        "The test data had a loss of 88.1% and testing accuracy of 62.9%. The training accuracy and the testing accuracy are pretty close. "
      ]
    },
    {
      "cell_type": "markdown",
      "metadata": {
        "id": "pJ7aGId4P_nS"
      },
      "source": [
        "## Network with Pre-trained Feature Extractors\n",
        "\n",
        "Build the network and the train the model using the cells below."
      ]
    },
    {
      "cell_type": "code",
      "metadata": {
        "id": "pqb2qEqHMFAh",
        "colab": {
          "base_uri": "https://localhost:8080/"
        },
        "outputId": "821a7d26-d927-42ad-8c1a-f09978d3efc0"
      },
      "source": [
        "# Load in the pre-trained model\n",
        "# Note that include_top=False means we are including just\n",
        "# the feature extractors and not the classification layers\n",
        "pre_trained_model = tf.keras.applications.inception_v3.InceptionV3(\n",
        "    input_shape=(img_size, img_size, 3), include_top=False)\n",
        "\n",
        "# Make sure we don't try to train these massive layers\n",
        "pre_trained_model.trainable = False\n",
        "\n",
        "# Build the model as before\n",
        "pre_trained_model = tf.keras.Sequential([\n",
        "  pre_trained_model,\n",
        "  tf.keras.layers.Flatten(),\n",
        "  tf.keras.layers.Dense(192, activation='relu'),\n",
        "  tf.keras.layers.Dense(num_classes, activation='softmax'),\n",
        "])\n",
        "pre_trained_model.compile(optimizer=tf.keras.optimizers.RMSprop(learning_rate=0.001),\n",
        "              loss=tf.keras.losses.CategoricalCrossentropy(),\n",
        "              metrics=[tf.keras.metrics.CategoricalAccuracy()])\n",
        "\n"
      ],
      "execution_count": null,
      "outputs": [
        {
          "output_type": "stream",
          "name": "stdout",
          "text": [
            "Downloading data from https://storage.googleapis.com/tensorflow/keras-applications/inception_v3/inception_v3_weights_tf_dim_ordering_tf_kernels_notop.h5\n",
            "87916544/87910968 [==============================] - 1s 0us/step\n",
            "87924736/87910968 [==============================] - 1s 0us/step\n"
          ]
        }
      ]
    },
    {
      "cell_type": "code",
      "metadata": {
        "colab": {
          "base_uri": "https://localhost:8080/"
        },
        "id": "JvVvJYdpSLsn",
        "outputId": "399ba8ad-b937-45c7-ca71-281e2e270720"
      },
      "source": [
        "# Train the model\n",
        "# Watch the training and validation accuracy over time\n",
        "# A notably higher training accuracy means overfitting\n",
        "epochs=5\n",
        "history = pre_trained_model.fit(\n",
        "  train,\n",
        "  validation_data=validation,\n",
        "  epochs=epochs\n",
        ")"
      ],
      "execution_count": null,
      "outputs": [
        {
          "output_type": "stream",
          "name": "stdout",
          "text": [
            "Epoch 1/5\n",
            "23/23 [==============================] - 32s 1s/step - loss: 1.4218 - categorical_accuracy: 0.5116 - val_loss: 1.1410 - val_categorical_accuracy: 0.5559\n",
            "Epoch 2/5\n",
            "23/23 [==============================] - 26s 1s/step - loss: 0.8646 - categorical_accuracy: 0.6764 - val_loss: 0.9365 - val_categorical_accuracy: 0.6349\n",
            "Epoch 3/5\n",
            "23/23 [==============================] - 26s 1s/step - loss: 0.7029 - categorical_accuracy: 0.7388 - val_loss: 0.8458 - val_categorical_accuracy: 0.6921\n",
            "Epoch 4/5\n",
            "23/23 [==============================] - 26s 1s/step - loss: 0.5736 - categorical_accuracy: 0.7977 - val_loss: 0.8771 - val_categorical_accuracy: 0.6676\n",
            "Epoch 5/5\n",
            "23/23 [==============================] - 26s 1s/step - loss: 0.4299 - categorical_accuracy: 0.8522 - val_loss: 0.9493 - val_categorical_accuracy: 0.6649\n"
          ]
        }
      ]
    },
    {
      "cell_type": "code",
      "metadata": {
        "colab": {
          "base_uri": "https://localhost:8080/"
        },
        "id": "2ruul0bUQ4r0",
        "outputId": "3489b270-c790-4cca-863f-d299f1582443"
      },
      "source": [
        "pre_trained_model.summary()"
      ],
      "execution_count": null,
      "outputs": [
        {
          "output_type": "stream",
          "name": "stdout",
          "text": [
            "Model: \"sequential_3\"\n",
            "_________________________________________________________________\n",
            " Layer (type)                Output Shape              Param #   \n",
            "=================================================================\n",
            " inception_v3 (Functional)   (None, 1, 1, 2048)        21802784  \n",
            "                                                                 \n",
            " flatten_3 (Flatten)         (None, 2048)              0         \n",
            "                                                                 \n",
            " dense_7 (Dense)             (None, 192)               393408    \n",
            "                                                                 \n",
            " dense_8 (Dense)             (None, 5)                 965       \n",
            "                                                                 \n",
            "=================================================================\n",
            "Total params: 22,197,157\n",
            "Trainable params: 394,373\n",
            "Non-trainable params: 21,802,784\n",
            "_________________________________________________________________\n"
          ]
        }
      ]
    },
    {
      "cell_type": "markdown",
      "metadata": {
        "id": "mkzpeCSERTJJ"
      },
      "source": [
        "### Questions\n",
        "1. How did the network do? What were the final training and validation accuracies?\n",
        "\n",
        "The network did pretty well. The final training accuracy was 85.2% and validation accuracy was 66.5%.\n",
        "\n",
        "2. Is there evidence of overfitting?\n",
        "\n",
        "There is evidence of overfitting because overfitting takes place when the validation accuracy is less then training accuracy. \n",
        "\n",
        "\n",
        "3. Why might you include pre-trained layers? Are they improving performance?\n",
        "\n",
        "Pre trained layers eradicated the need to create a neural network every single time making the process more efficient and improving performance. \n",
        "\n",
        "4. How does the number of parameters (weights) compare to the previous networks (Hint: look at the summaries).\n",
        "\n",
        "The number of parameters for this network is much higher than the number of parameters in the previous networks. "
      ]
    },
    {
      "cell_type": "code",
      "source": [],
      "metadata": {
        "id": "f7n9y5UPYqR2"
      },
      "execution_count": null,
      "outputs": []
    }
  ]
}