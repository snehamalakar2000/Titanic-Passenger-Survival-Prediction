{
  "nbformat": 4,
  "nbformat_minor": 0,
  "metadata": {
    "colab": {
      "provenance": [],
      "collapsed_sections": [
        "UBOfhQHFQ8rn",
        "-kjfu7mJR7U3",
        "bqqj5Vq7SFlr",
        "-8URPDI8SWPs",
        "9wXJrppCTAqc"
      ]
    },
    "kernelspec": {
      "name": "python3",
      "display_name": "Python 3"
    },
    "language_info": {
      "name": "python"
    }
  },
  "cells": [
    {
      "cell_type": "markdown",
      "source": [
        "#Titanic Passenger Survival Prediction\n",
        "\n",
        "Sneha Malakar\n",
        "\n",
        "12/13/2021"
      ],
      "metadata": {
        "id": "YZoVdmpEOe80"
      }
    },
    {
      "cell_type": "code",
      "source": [
        "from google.colab import drive\n",
        "drive.mount('/content/drive')"
      ],
      "metadata": {
        "colab": {
          "base_uri": "https://localhost:8080/"
        },
        "id": "xyAtAF8UOjx2",
        "outputId": "7fc1298c-986c-418f-b20d-04facac6797d"
      },
      "execution_count": null,
      "outputs": [
        {
          "output_type": "stream",
          "name": "stdout",
          "text": [
            "Drive already mounted at /content/drive; to attempt to forcibly remount, call drive.mount(\"/content/drive\", force_remount=True).\n"
          ]
        }
      ]
    },
    {
      "cell_type": "code",
      "source": [
        "import numpy as np\n",
        "import pandas as pd\n",
        "from sklearn.ensemble import RandomForestClassifier\n",
        "from sklearn.tree import DecisionTreeClassifier\n",
        "from sklearn.neighbors import KNeighborsClassifier\n",
        "from sklearn import metrics\n",
        "from sklearn.model_selection import cross_validate\n",
        "import matplotlib.pyplot as plt\n",
        "import seaborn as sns\n",
        "%matplotlib inline"
      ],
      "metadata": {
        "id": "n4L-e_a8OlrR"
      },
      "execution_count": null,
      "outputs": []
    },
    {
      "cell_type": "code",
      "source": [
        "train = pd.read_csv('/content/drive/My Drive/HDS/Datasets/Kaggle Titanic/train.csv')\n",
        "train.head()"
      ],
      "metadata": {
        "colab": {
          "base_uri": "https://localhost:8080/",
          "height": 285
        },
        "id": "AHAYQ3BYO-G_",
        "outputId": "fdcc3052-1122-43e0-e54d-57152b6910fe"
      },
      "execution_count": null,
      "outputs": [
        {
          "output_type": "execute_result",
          "data": {
            "text/plain": [
              "   PassengerId  Survived  Pclass  \\\n",
              "0            1         0       3   \n",
              "1            2         1       1   \n",
              "2            3         1       3   \n",
              "3            4         1       1   \n",
              "4            5         0       3   \n",
              "\n",
              "                                                Name     Sex   Age  SibSp  \\\n",
              "0                            Braund, Mr. Owen Harris    male  22.0      1   \n",
              "1  Cumings, Mrs. John Bradley (Florence Briggs Th...  female  38.0      1   \n",
              "2                             Heikkinen, Miss. Laina  female  26.0      0   \n",
              "3       Futrelle, Mrs. Jacques Heath (Lily May Peel)  female  35.0      1   \n",
              "4                           Allen, Mr. William Henry    male  35.0      0   \n",
              "\n",
              "   Parch            Ticket     Fare Cabin Embarked  \n",
              "0      0         A/5 21171   7.2500   NaN        S  \n",
              "1      0          PC 17599  71.2833   C85        C  \n",
              "2      0  STON/O2. 3101282   7.9250   NaN        S  \n",
              "3      0            113803  53.1000  C123        S  \n",
              "4      0            373450   8.0500   NaN        S  "
            ],
            "text/html": [
              "\n",
              "  <div id=\"df-2d9bfacb-b6d9-4cca-84e1-19a9153f3167\">\n",
              "    <div class=\"colab-df-container\">\n",
              "      <div>\n",
              "<style scoped>\n",
              "    .dataframe tbody tr th:only-of-type {\n",
              "        vertical-align: middle;\n",
              "    }\n",
              "\n",
              "    .dataframe tbody tr th {\n",
              "        vertical-align: top;\n",
              "    }\n",
              "\n",
              "    .dataframe thead th {\n",
              "        text-align: right;\n",
              "    }\n",
              "</style>\n",
              "<table border=\"1\" class=\"dataframe\">\n",
              "  <thead>\n",
              "    <tr style=\"text-align: right;\">\n",
              "      <th></th>\n",
              "      <th>PassengerId</th>\n",
              "      <th>Survived</th>\n",
              "      <th>Pclass</th>\n",
              "      <th>Name</th>\n",
              "      <th>Sex</th>\n",
              "      <th>Age</th>\n",
              "      <th>SibSp</th>\n",
              "      <th>Parch</th>\n",
              "      <th>Ticket</th>\n",
              "      <th>Fare</th>\n",
              "      <th>Cabin</th>\n",
              "      <th>Embarked</th>\n",
              "    </tr>\n",
              "  </thead>\n",
              "  <tbody>\n",
              "    <tr>\n",
              "      <th>0</th>\n",
              "      <td>1</td>\n",
              "      <td>0</td>\n",
              "      <td>3</td>\n",
              "      <td>Braund, Mr. Owen Harris</td>\n",
              "      <td>male</td>\n",
              "      <td>22.0</td>\n",
              "      <td>1</td>\n",
              "      <td>0</td>\n",
              "      <td>A/5 21171</td>\n",
              "      <td>7.2500</td>\n",
              "      <td>NaN</td>\n",
              "      <td>S</td>\n",
              "    </tr>\n",
              "    <tr>\n",
              "      <th>1</th>\n",
              "      <td>2</td>\n",
              "      <td>1</td>\n",
              "      <td>1</td>\n",
              "      <td>Cumings, Mrs. John Bradley (Florence Briggs Th...</td>\n",
              "      <td>female</td>\n",
              "      <td>38.0</td>\n",
              "      <td>1</td>\n",
              "      <td>0</td>\n",
              "      <td>PC 17599</td>\n",
              "      <td>71.2833</td>\n",
              "      <td>C85</td>\n",
              "      <td>C</td>\n",
              "    </tr>\n",
              "    <tr>\n",
              "      <th>2</th>\n",
              "      <td>3</td>\n",
              "      <td>1</td>\n",
              "      <td>3</td>\n",
              "      <td>Heikkinen, Miss. Laina</td>\n",
              "      <td>female</td>\n",
              "      <td>26.0</td>\n",
              "      <td>0</td>\n",
              "      <td>0</td>\n",
              "      <td>STON/O2. 3101282</td>\n",
              "      <td>7.9250</td>\n",
              "      <td>NaN</td>\n",
              "      <td>S</td>\n",
              "    </tr>\n",
              "    <tr>\n",
              "      <th>3</th>\n",
              "      <td>4</td>\n",
              "      <td>1</td>\n",
              "      <td>1</td>\n",
              "      <td>Futrelle, Mrs. Jacques Heath (Lily May Peel)</td>\n",
              "      <td>female</td>\n",
              "      <td>35.0</td>\n",
              "      <td>1</td>\n",
              "      <td>0</td>\n",
              "      <td>113803</td>\n",
              "      <td>53.1000</td>\n",
              "      <td>C123</td>\n",
              "      <td>S</td>\n",
              "    </tr>\n",
              "    <tr>\n",
              "      <th>4</th>\n",
              "      <td>5</td>\n",
              "      <td>0</td>\n",
              "      <td>3</td>\n",
              "      <td>Allen, Mr. William Henry</td>\n",
              "      <td>male</td>\n",
              "      <td>35.0</td>\n",
              "      <td>0</td>\n",
              "      <td>0</td>\n",
              "      <td>373450</td>\n",
              "      <td>8.0500</td>\n",
              "      <td>NaN</td>\n",
              "      <td>S</td>\n",
              "    </tr>\n",
              "  </tbody>\n",
              "</table>\n",
              "</div>\n",
              "      <button class=\"colab-df-convert\" onclick=\"convertToInteractive('df-2d9bfacb-b6d9-4cca-84e1-19a9153f3167')\"\n",
              "              title=\"Convert this dataframe to an interactive table.\"\n",
              "              style=\"display:none;\">\n",
              "        \n",
              "  <svg xmlns=\"http://www.w3.org/2000/svg\" height=\"24px\"viewBox=\"0 0 24 24\"\n",
              "       width=\"24px\">\n",
              "    <path d=\"M0 0h24v24H0V0z\" fill=\"none\"/>\n",
              "    <path d=\"M18.56 5.44l.94 2.06.94-2.06 2.06-.94-2.06-.94-.94-2.06-.94 2.06-2.06.94zm-11 1L8.5 8.5l.94-2.06 2.06-.94-2.06-.94L8.5 2.5l-.94 2.06-2.06.94zm10 10l.94 2.06.94-2.06 2.06-.94-2.06-.94-.94-2.06-.94 2.06-2.06.94z\"/><path d=\"M17.41 7.96l-1.37-1.37c-.4-.4-.92-.59-1.43-.59-.52 0-1.04.2-1.43.59L10.3 9.45l-7.72 7.72c-.78.78-.78 2.05 0 2.83L4 21.41c.39.39.9.59 1.41.59.51 0 1.02-.2 1.41-.59l7.78-7.78 2.81-2.81c.8-.78.8-2.07 0-2.86zM5.41 20L4 18.59l7.72-7.72 1.47 1.35L5.41 20z\"/>\n",
              "  </svg>\n",
              "      </button>\n",
              "      \n",
              "  <style>\n",
              "    .colab-df-container {\n",
              "      display:flex;\n",
              "      flex-wrap:wrap;\n",
              "      gap: 12px;\n",
              "    }\n",
              "\n",
              "    .colab-df-convert {\n",
              "      background-color: #E8F0FE;\n",
              "      border: none;\n",
              "      border-radius: 50%;\n",
              "      cursor: pointer;\n",
              "      display: none;\n",
              "      fill: #1967D2;\n",
              "      height: 32px;\n",
              "      padding: 0 0 0 0;\n",
              "      width: 32px;\n",
              "    }\n",
              "\n",
              "    .colab-df-convert:hover {\n",
              "      background-color: #E2EBFA;\n",
              "      box-shadow: 0px 1px 2px rgba(60, 64, 67, 0.3), 0px 1px 3px 1px rgba(60, 64, 67, 0.15);\n",
              "      fill: #174EA6;\n",
              "    }\n",
              "\n",
              "    [theme=dark] .colab-df-convert {\n",
              "      background-color: #3B4455;\n",
              "      fill: #D2E3FC;\n",
              "    }\n",
              "\n",
              "    [theme=dark] .colab-df-convert:hover {\n",
              "      background-color: #434B5C;\n",
              "      box-shadow: 0px 1px 3px 1px rgba(0, 0, 0, 0.15);\n",
              "      filter: drop-shadow(0px 1px 2px rgba(0, 0, 0, 0.3));\n",
              "      fill: #FFFFFF;\n",
              "    }\n",
              "  </style>\n",
              "\n",
              "      <script>\n",
              "        const buttonEl =\n",
              "          document.querySelector('#df-2d9bfacb-b6d9-4cca-84e1-19a9153f3167 button.colab-df-convert');\n",
              "        buttonEl.style.display =\n",
              "          google.colab.kernel.accessAllowed ? 'block' : 'none';\n",
              "\n",
              "        async function convertToInteractive(key) {\n",
              "          const element = document.querySelector('#df-2d9bfacb-b6d9-4cca-84e1-19a9153f3167');\n",
              "          const dataTable =\n",
              "            await google.colab.kernel.invokeFunction('convertToInteractive',\n",
              "                                                     [key], {});\n",
              "          if (!dataTable) return;\n",
              "\n",
              "          const docLinkHtml = 'Like what you see? Visit the ' +\n",
              "            '<a target=\"_blank\" href=https://colab.research.google.com/notebooks/data_table.ipynb>data table notebook</a>'\n",
              "            + ' to learn more about interactive tables.';\n",
              "          element.innerHTML = '';\n",
              "          dataTable['output_type'] = 'display_data';\n",
              "          await google.colab.output.renderOutput(dataTable, element);\n",
              "          const docLink = document.createElement('div');\n",
              "          docLink.innerHTML = docLinkHtml;\n",
              "          element.appendChild(docLink);\n",
              "        }\n",
              "      </script>\n",
              "    </div>\n",
              "  </div>\n",
              "  "
            ]
          },
          "metadata": {},
          "execution_count": 5
        }
      ]
    },
    {
      "cell_type": "code",
      "source": [
        "test = pd.read_csv('/content/drive/My Drive/HDS/Datasets/Kaggle Titanic/test.csv')\n",
        "test.head()"
      ],
      "metadata": {
        "colab": {
          "base_uri": "https://localhost:8080/",
          "height": 206
        },
        "id": "Uq-Y9Qz9PAEQ",
        "outputId": "c8f3220f-d955-4a3f-ae9b-2bce6d0abefe"
      },
      "execution_count": null,
      "outputs": [
        {
          "output_type": "execute_result",
          "data": {
            "text/plain": [
              "   PassengerId  Pclass                                          Name     Sex  \\\n",
              "0          892       3                              Kelly, Mr. James    male   \n",
              "1          893       3              Wilkes, Mrs. James (Ellen Needs)  female   \n",
              "2          894       2                     Myles, Mr. Thomas Francis    male   \n",
              "3          895       3                              Wirz, Mr. Albert    male   \n",
              "4          896       3  Hirvonen, Mrs. Alexander (Helga E Lindqvist)  female   \n",
              "\n",
              "    Age  SibSp  Parch   Ticket     Fare Cabin Embarked  \n",
              "0  34.5      0      0   330911   7.8292   NaN        Q  \n",
              "1  47.0      1      0   363272   7.0000   NaN        S  \n",
              "2  62.0      0      0   240276   9.6875   NaN        Q  \n",
              "3  27.0      0      0   315154   8.6625   NaN        S  \n",
              "4  22.0      1      1  3101298  12.2875   NaN        S  "
            ],
            "text/html": [
              "\n",
              "  <div id=\"df-9f9f1b3e-3acd-433b-b758-80945cd7038c\">\n",
              "    <div class=\"colab-df-container\">\n",
              "      <div>\n",
              "<style scoped>\n",
              "    .dataframe tbody tr th:only-of-type {\n",
              "        vertical-align: middle;\n",
              "    }\n",
              "\n",
              "    .dataframe tbody tr th {\n",
              "        vertical-align: top;\n",
              "    }\n",
              "\n",
              "    .dataframe thead th {\n",
              "        text-align: right;\n",
              "    }\n",
              "</style>\n",
              "<table border=\"1\" class=\"dataframe\">\n",
              "  <thead>\n",
              "    <tr style=\"text-align: right;\">\n",
              "      <th></th>\n",
              "      <th>PassengerId</th>\n",
              "      <th>Pclass</th>\n",
              "      <th>Name</th>\n",
              "      <th>Sex</th>\n",
              "      <th>Age</th>\n",
              "      <th>SibSp</th>\n",
              "      <th>Parch</th>\n",
              "      <th>Ticket</th>\n",
              "      <th>Fare</th>\n",
              "      <th>Cabin</th>\n",
              "      <th>Embarked</th>\n",
              "    </tr>\n",
              "  </thead>\n",
              "  <tbody>\n",
              "    <tr>\n",
              "      <th>0</th>\n",
              "      <td>892</td>\n",
              "      <td>3</td>\n",
              "      <td>Kelly, Mr. James</td>\n",
              "      <td>male</td>\n",
              "      <td>34.5</td>\n",
              "      <td>0</td>\n",
              "      <td>0</td>\n",
              "      <td>330911</td>\n",
              "      <td>7.8292</td>\n",
              "      <td>NaN</td>\n",
              "      <td>Q</td>\n",
              "    </tr>\n",
              "    <tr>\n",
              "      <th>1</th>\n",
              "      <td>893</td>\n",
              "      <td>3</td>\n",
              "      <td>Wilkes, Mrs. James (Ellen Needs)</td>\n",
              "      <td>female</td>\n",
              "      <td>47.0</td>\n",
              "      <td>1</td>\n",
              "      <td>0</td>\n",
              "      <td>363272</td>\n",
              "      <td>7.0000</td>\n",
              "      <td>NaN</td>\n",
              "      <td>S</td>\n",
              "    </tr>\n",
              "    <tr>\n",
              "      <th>2</th>\n",
              "      <td>894</td>\n",
              "      <td>2</td>\n",
              "      <td>Myles, Mr. Thomas Francis</td>\n",
              "      <td>male</td>\n",
              "      <td>62.0</td>\n",
              "      <td>0</td>\n",
              "      <td>0</td>\n",
              "      <td>240276</td>\n",
              "      <td>9.6875</td>\n",
              "      <td>NaN</td>\n",
              "      <td>Q</td>\n",
              "    </tr>\n",
              "    <tr>\n",
              "      <th>3</th>\n",
              "      <td>895</td>\n",
              "      <td>3</td>\n",
              "      <td>Wirz, Mr. Albert</td>\n",
              "      <td>male</td>\n",
              "      <td>27.0</td>\n",
              "      <td>0</td>\n",
              "      <td>0</td>\n",
              "      <td>315154</td>\n",
              "      <td>8.6625</td>\n",
              "      <td>NaN</td>\n",
              "      <td>S</td>\n",
              "    </tr>\n",
              "    <tr>\n",
              "      <th>4</th>\n",
              "      <td>896</td>\n",
              "      <td>3</td>\n",
              "      <td>Hirvonen, Mrs. Alexander (Helga E Lindqvist)</td>\n",
              "      <td>female</td>\n",
              "      <td>22.0</td>\n",
              "      <td>1</td>\n",
              "      <td>1</td>\n",
              "      <td>3101298</td>\n",
              "      <td>12.2875</td>\n",
              "      <td>NaN</td>\n",
              "      <td>S</td>\n",
              "    </tr>\n",
              "  </tbody>\n",
              "</table>\n",
              "</div>\n",
              "      <button class=\"colab-df-convert\" onclick=\"convertToInteractive('df-9f9f1b3e-3acd-433b-b758-80945cd7038c')\"\n",
              "              title=\"Convert this dataframe to an interactive table.\"\n",
              "              style=\"display:none;\">\n",
              "        \n",
              "  <svg xmlns=\"http://www.w3.org/2000/svg\" height=\"24px\"viewBox=\"0 0 24 24\"\n",
              "       width=\"24px\">\n",
              "    <path d=\"M0 0h24v24H0V0z\" fill=\"none\"/>\n",
              "    <path d=\"M18.56 5.44l.94 2.06.94-2.06 2.06-.94-2.06-.94-.94-2.06-.94 2.06-2.06.94zm-11 1L8.5 8.5l.94-2.06 2.06-.94-2.06-.94L8.5 2.5l-.94 2.06-2.06.94zm10 10l.94 2.06.94-2.06 2.06-.94-2.06-.94-.94-2.06-.94 2.06-2.06.94z\"/><path d=\"M17.41 7.96l-1.37-1.37c-.4-.4-.92-.59-1.43-.59-.52 0-1.04.2-1.43.59L10.3 9.45l-7.72 7.72c-.78.78-.78 2.05 0 2.83L4 21.41c.39.39.9.59 1.41.59.51 0 1.02-.2 1.41-.59l7.78-7.78 2.81-2.81c.8-.78.8-2.07 0-2.86zM5.41 20L4 18.59l7.72-7.72 1.47 1.35L5.41 20z\"/>\n",
              "  </svg>\n",
              "      </button>\n",
              "      \n",
              "  <style>\n",
              "    .colab-df-container {\n",
              "      display:flex;\n",
              "      flex-wrap:wrap;\n",
              "      gap: 12px;\n",
              "    }\n",
              "\n",
              "    .colab-df-convert {\n",
              "      background-color: #E8F0FE;\n",
              "      border: none;\n",
              "      border-radius: 50%;\n",
              "      cursor: pointer;\n",
              "      display: none;\n",
              "      fill: #1967D2;\n",
              "      height: 32px;\n",
              "      padding: 0 0 0 0;\n",
              "      width: 32px;\n",
              "    }\n",
              "\n",
              "    .colab-df-convert:hover {\n",
              "      background-color: #E2EBFA;\n",
              "      box-shadow: 0px 1px 2px rgba(60, 64, 67, 0.3), 0px 1px 3px 1px rgba(60, 64, 67, 0.15);\n",
              "      fill: #174EA6;\n",
              "    }\n",
              "\n",
              "    [theme=dark] .colab-df-convert {\n",
              "      background-color: #3B4455;\n",
              "      fill: #D2E3FC;\n",
              "    }\n",
              "\n",
              "    [theme=dark] .colab-df-convert:hover {\n",
              "      background-color: #434B5C;\n",
              "      box-shadow: 0px 1px 3px 1px rgba(0, 0, 0, 0.15);\n",
              "      filter: drop-shadow(0px 1px 2px rgba(0, 0, 0, 0.3));\n",
              "      fill: #FFFFFF;\n",
              "    }\n",
              "  </style>\n",
              "\n",
              "      <script>\n",
              "        const buttonEl =\n",
              "          document.querySelector('#df-9f9f1b3e-3acd-433b-b758-80945cd7038c button.colab-df-convert');\n",
              "        buttonEl.style.display =\n",
              "          google.colab.kernel.accessAllowed ? 'block' : 'none';\n",
              "\n",
              "        async function convertToInteractive(key) {\n",
              "          const element = document.querySelector('#df-9f9f1b3e-3acd-433b-b758-80945cd7038c');\n",
              "          const dataTable =\n",
              "            await google.colab.kernel.invokeFunction('convertToInteractive',\n",
              "                                                     [key], {});\n",
              "          if (!dataTable) return;\n",
              "\n",
              "          const docLinkHtml = 'Like what you see? Visit the ' +\n",
              "            '<a target=\"_blank\" href=https://colab.research.google.com/notebooks/data_table.ipynb>data table notebook</a>'\n",
              "            + ' to learn more about interactive tables.';\n",
              "          element.innerHTML = '';\n",
              "          dataTable['output_type'] = 'display_data';\n",
              "          await google.colab.output.renderOutput(dataTable, element);\n",
              "          const docLink = document.createElement('div');\n",
              "          docLink.innerHTML = docLinkHtml;\n",
              "          element.appendChild(docLink);\n",
              "        }\n",
              "      </script>\n",
              "    </div>\n",
              "  </div>\n",
              "  "
            ]
          },
          "metadata": {},
          "execution_count": 6
        }
      ]
    },
    {
      "cell_type": "markdown",
      "source": [
        "##Data Cleaning"
      ],
      "metadata": {
        "id": "kxbrq-GVPGB2"
      }
    },
    {
      "cell_type": "code",
      "source": [
        "#Check to see how many missing data on the training data\n",
        "train.isnull().sum().sort_values(ascending = False)"
      ],
      "metadata": {
        "colab": {
          "base_uri": "https://localhost:8080/"
        },
        "id": "37C_YRl6PCI0",
        "outputId": "2ae5b979-b4f3-4ce3-937e-68c0cb9bd6a5"
      },
      "execution_count": null,
      "outputs": [
        {
          "output_type": "execute_result",
          "data": {
            "text/plain": [
              "Cabin          687\n",
              "Age            177\n",
              "Embarked         2\n",
              "PassengerId      0\n",
              "Survived         0\n",
              "Pclass           0\n",
              "Name             0\n",
              "Sex              0\n",
              "SibSp            0\n",
              "Parch            0\n",
              "Ticket           0\n",
              "Fare             0\n",
              "dtype: int64"
            ]
          },
          "metadata": {},
          "execution_count": 7
        }
      ]
    },
    {
      "cell_type": "code",
      "source": [
        "#Check to see how many missing data on the testing data\n",
        "test.isnull().sum().sort_values(ascending = False)"
      ],
      "metadata": {
        "colab": {
          "base_uri": "https://localhost:8080/"
        },
        "id": "tKFI79yWPJuq",
        "outputId": "80ec3087-370a-40f6-8b9d-346763314795"
      },
      "execution_count": null,
      "outputs": [
        {
          "output_type": "execute_result",
          "data": {
            "text/plain": [
              "Cabin          327\n",
              "Age             86\n",
              "Fare             1\n",
              "PassengerId      0\n",
              "Pclass           0\n",
              "Name             0\n",
              "Sex              0\n",
              "SibSp            0\n",
              "Parch            0\n",
              "Ticket           0\n",
              "Embarked         0\n",
              "dtype: int64"
            ]
          },
          "metadata": {},
          "execution_count": 8
        }
      ]
    },
    {
      "cell_type": "markdown",
      "source": [
        "Columns Cabin, Age, and Embarked have missing data on the training set whereas columns Cabin, Age and Fare have missing data on the testing set. \n"
      ],
      "metadata": {
        "id": "OuTmBUIXPU0x"
      }
    },
    {
      "cell_type": "code",
      "source": [
        "# Drop ticket, cabin, and name features from training and test set\n",
        "train = train.drop(['Ticket', 'Cabin', 'Name'], axis = 1)\n",
        "test = test.drop(['Ticket', 'Cabin', 'Name'], axis = 1)"
      ],
      "metadata": {
        "id": "EVIgcYMVRPk_"
      },
      "execution_count": null,
      "outputs": []
    },
    {
      "cell_type": "markdown",
      "source": [
        "####Cleaning on training and test data for Age"
      ],
      "metadata": {
        "id": "aJl-vHCbRTLW"
      }
    },
    {
      "cell_type": "code",
      "source": [
        "# Fill in missing values with the mean age in both training and test sets\n",
        "agemean = train[\"Age\"].mean()\n",
        "train[\"Age\"].fillna(value=agemean, inplace=True)\n",
        "test[\"Age\"].fillna(value=agemean, inplace=True)"
      ],
      "metadata": {
        "id": "jphPcGr6PO8C"
      },
      "execution_count": null,
      "outputs": []
    },
    {
      "cell_type": "markdown",
      "source": [
        "####Cleaning on training data for Embarked"
      ],
      "metadata": {
        "id": "El4lqNdxQzsb"
      }
    },
    {
      "cell_type": "code",
      "source": [
        "#Fill in Embarked feature in the training set. \n",
        "print(\"Number of people embarking in Southampton (S):\")\n",
        "southampton = train[train[\"Embarked\"] == \"S\"].shape[0]\n",
        "print(southampton)\n",
        "\n",
        "print(\"Number of people embarking in Cherbourg (C):\")\n",
        "cherbourg = train[train[\"Embarked\"] == \"C\"].shape[0]\n",
        "print(cherbourg)\n",
        "\n",
        "print(\"Number of people embarking in Queenstown (Q):\")\n",
        "queenstown = train[train[\"Embarked\"] == \"Q\"].shape[0]\n",
        "print(queenstown)"
      ],
      "metadata": {
        "colab": {
          "base_uri": "https://localhost:8080/"
        },
        "id": "B2qmz0esP0vS",
        "outputId": "fc371cbf-3c09-4ad1-ff6c-6d26176fb2c2"
      },
      "execution_count": null,
      "outputs": [
        {
          "output_type": "stream",
          "name": "stdout",
          "text": [
            "Number of people embarking in Southampton (S):\n",
            "644\n",
            "Number of people embarking in Cherbourg (C):\n",
            "168\n",
            "Number of people embarking in Queenstown (Q):\n",
            "77\n"
          ]
        }
      ]
    },
    {
      "cell_type": "markdown",
      "source": [
        "It's clear that the majority of people embarked in Southampton (S). Let's go ahead and fill in the missing values with S."
      ],
      "metadata": {
        "id": "wSbNGAF-QR4k"
      }
    },
    {
      "cell_type": "code",
      "source": [
        "#replacing the missing values in the Embarked feature with S\n",
        "train = train.fillna({\"Embarked\": \"S\"})"
      ],
      "metadata": {
        "id": "ULMD7aa3QPji"
      },
      "execution_count": null,
      "outputs": []
    },
    {
      "cell_type": "markdown",
      "source": [
        "####Cleaning on testing data for Fare"
      ],
      "metadata": {
        "id": "UBOfhQHFQ8rn"
      }
    },
    {
      "cell_type": "code",
      "source": [
        "# Fill missing value in Fare with median\n",
        "test['Fare'].fillna(test['Fare'].dropna().median(), inplace = True)"
      ],
      "metadata": {
        "id": "4VsRi0txQV0d"
      },
      "execution_count": null,
      "outputs": []
    },
    {
      "cell_type": "markdown",
      "source": [
        "##Data Visualization\n",
        "To see whether particular features have made a difference in the survival rate. \n",
        "\n",
        "####1) Sex Feature"
      ],
      "metadata": {
        "id": "qX3PUrqdRxlD"
      }
    },
    {
      "cell_type": "code",
      "source": [
        "train[\"Sex\"].replace([\"male\", \"female\"], [0, 1], inplace=True)\n",
        "test[\"Sex\"].replace([\"male\", \"female\"], [0, 1], inplace=True)\n",
        "#draw a bar plot of survival by sex\n",
        "sns.barplot(x=\"Sex\", y=\"Survived\", data=train)\n",
        "\n",
        "#print percentages of females vs. males that survive\n",
        "print(\"Percentage of females who survived:\", train[\"Survived\"][train[\"Sex\"] == 1].value_counts(normalize = True)[1]*100)\n",
        "\n",
        "print(\"Percentage of males who survived:\", train[\"Survived\"][train[\"Sex\"] == 0].value_counts(normalize = True)[1]*100)"
      ],
      "metadata": {
        "colab": {
          "base_uri": "https://localhost:8080/",
          "height": 314
        },
        "id": "WAinVmZ-RHNh",
        "outputId": "4213e75a-5388-4dc2-9570-21dd40996818"
      },
      "execution_count": null,
      "outputs": [
        {
          "output_type": "stream",
          "name": "stdout",
          "text": [
            "Percentage of females who survived: 74.20382165605095\n",
            "Percentage of males who survived: 18.890814558058924\n"
          ]
        },
        {
          "output_type": "display_data",
          "data": {
            "text/plain": [
              "<Figure size 432x288 with 1 Axes>"
            ],
            "image/png": "[encoded data removed]"
          },
          "metadata": {
            "needs_background": "light"
          }
        }
      ]
    },
    {
      "cell_type": "markdown",
      "source": [
        "Females have a much higher chance of survival than males. Therefore, the sex feature is essential in our prediction.\n",
        "\n",
        "####2) Pclass Feature"
      ],
      "metadata": {
        "id": "-kjfu7mJR7U3"
      }
    },
    {
      "cell_type": "code",
      "source": [
        "#draw a bar plot of survival by Pclass\n",
        "sns.barplot(x=\"Pclass\", y=\"Survived\", data=train)\n",
        "\n",
        "#print percentage of people by Pclass that survived\n",
        "print(\"Percentage of Pclass = 1 who survived:\", train[\"Survived\"][train[\"Pclass\"] == 1].value_counts(normalize = True)[1]*100)\n",
        "\n",
        "print(\"Percentage of Pclass = 2 who survived:\", train[\"Survived\"][train[\"Pclass\"] == 2].value_counts(normalize = True)[1]*100)\n",
        "\n",
        "print(\"Percentage of Pclass = 3 who survived:\", train[\"Survived\"][train[\"Pclass\"] == 3].value_counts(normalize = True)[1]*100)"
      ],
      "metadata": {
        "colab": {
          "base_uri": "https://localhost:8080/",
          "height": 331
        },
        "id": "MjMQiLERR4Sj",
        "outputId": "fc36f871-e250-42f9-ed42-1b9f6426447b"
      },
      "execution_count": null,
      "outputs": [
        {
          "output_type": "stream",
          "name": "stdout",
          "text": [
            "Percentage of Pclass = 1 who survived: 62.96296296296296\n",
            "Percentage of Pclass = 2 who survived: 47.28260869565217\n",
            "Percentage of Pclass = 3 who survived: 24.236252545824847\n"
          ]
        },
        {
          "output_type": "display_data",
          "data": {
            "text/plain": [
              "<Figure size 432x288 with 1 Axes>"
            ],
            "image/png": "[encoded data removed]"
          },
          "metadata": {
            "needs_background": "light"
          }
        }
      ]
    },
    {
      "cell_type": "markdown",
      "source": [
        "People with higher socioeconomic class had a higher rate of survival. \n",
        "\n",
        "####3) Age Feature"
      ],
      "metadata": {
        "id": "bqqj5Vq7SFlr"
      }
    },
    {
      "cell_type": "code",
      "source": [
        "#sort the ages into logical categories\n",
        "bins = [-1, 0, 5, 12, 18, 24, 35, 60, np.inf]\n",
        "labels = ['Unknown', 'Baby', 'Child', 'Teenager', 'Student', 'Young Adult', 'Adult', 'Senior']\n",
        "train['AgeGroup'] = pd.cut(train[\"Age\"], bins, labels = labels)\n",
        "test['AgeGroup'] = pd.cut(test[\"Age\"], bins, labels = labels)\n",
        "\n",
        "#draw a bar plot of Age vs. survival\n",
        "sns.barplot(x=\"AgeGroup\", y=\"Survived\", data=train)\n",
        "plt.show()"
      ],
      "metadata": {
        "colab": {
          "base_uri": "https://localhost:8080/"
        },
        "id": "6jwmyT2KR_Wc",
        "outputId": "e4d3e77d-cfd1-4d8c-d84b-9e75dace2ce4"
      },
      "execution_count": null,
      "outputs": [
        {
          "output_type": "display_data",
          "data": {
            "text/plain": [
              "<Figure size 432x288 with 1 Axes>"
            ],
            "image/png": "[encoded data removed]"
          },
          "metadata": {
            "needs_background": "light"
          }
        }
      ]
    },
    {
      "cell_type": "markdown",
      "source": [
        "Age group also affects survival rate. As we can see babies were most likely to survive compared to any other age group.\n",
        "\n",
        "####SibSp Feature"
      ],
      "metadata": {
        "id": "-8URPDI8SWPs"
      }
    },
    {
      "cell_type": "code",
      "source": [
        "#draw a bar plot for SibSp vs. survival\n",
        "sns.barplot(x=\"SibSp\", y=\"Survived\", data=train)\n",
        "\n",
        "#I won't be printing individual percent values for all of these.\n",
        "print(\"Percentage of SibSp = 0 who survived:\", train[\"Survived\"][train[\"SibSp\"] == 0].value_counts(normalize = True)[1]*100)\n",
        "\n",
        "print(\"Percentage of SibSp = 1 who survived:\", train[\"Survived\"][train[\"SibSp\"] == 1].value_counts(normalize = True)[1]*100)\n",
        "\n",
        "print(\"Percentage of SibSp = 2 who survived:\", train[\"Survived\"][train[\"SibSp\"] == 2].value_counts(normalize = True)[1]*100)"
      ],
      "metadata": {
        "colab": {
          "base_uri": "https://localhost:8080/"
        },
        "id": "F05z-xrnSvwD",
        "outputId": "03ae8e1f-e37d-4f96-fbf5-aafc7d9606ff"
      },
      "execution_count": null,
      "outputs": [
        {
          "output_type": "stream",
          "name": "stdout",
          "text": [
            "Percentage of SibSp = 0 who survived: 34.53947368421053\n",
            "Percentage of SibSp = 1 who survived: 53.588516746411486\n",
            "Percentage of SibSp = 2 who survived: 46.42857142857143\n"
          ]
        },
        {
          "output_type": "display_data",
          "data": {
            "text/plain": [
              "<Figure size 432x288 with 1 Axes>"
            ],
            "image/png": "[encoded data removed]"
          },
          "metadata": {
            "needs_background": "light"
          }
        }
      ]
    },
    {
      "cell_type": "markdown",
      "source": [
        "In general, it's clear that people with more siblings or spouses aboard were less likely to survive. However, contrary to expectations, people with no siblings or spouses were less to likely to survive than those with one or two.\n",
        "\n",
        "####Parch feature"
      ],
      "metadata": {
        "id": "9wXJrppCTAqc"
      }
    },
    {
      "cell_type": "code",
      "source": [
        "#draw a bar plot for Parch vs. survival\n",
        "sns.barplot(x=\"Parch\", y=\"Survived\", data=train)\n",
        "plt.show()"
      ],
      "metadata": {
        "colab": {
          "base_uri": "https://localhost:8080/"
        },
        "id": "Pn--2eyKTJbY",
        "outputId": "48f05754-61e6-479e-9cba-5da2e5b61fd1"
      },
      "execution_count": null,
      "outputs": [
        {
          "output_type": "display_data",
          "data": {
            "text/plain": [
              "<Figure size 432x288 with 1 Axes>"
            ],
            "image/png": "[encoded data removed]"
          },
          "metadata": {
            "needs_background": "light"
          }
        }
      ]
    },
    {
      "cell_type": "markdown",
      "source": [
        "People with less than four parents or children aboard are more likely to survive than those with four or more. Again, people traveling alone are less likely to survive than those with 1-3 parents or children."
      ],
      "metadata": {
        "id": "ESWNEmYtTNki"
      }
    },
    {
      "cell_type": "code",
      "source": [
        "# Pull out data subsets for training and testing\n",
        "features = train.loc[:,[\"Pclass\",\"Age\",\"SibSp\",\"Parch\",\"Sex\"]]\n",
        "targets = train.loc[:,\"Survived\"]\n",
        "test_features = test.loc[:,[\"Pclass\",\"Age\",\"SibSp\",\"Parch\",\"Sex\"]]\n",
        "features.head()"
      ],
      "metadata": {
        "colab": {
          "base_uri": "https://localhost:8080/"
        },
        "id": "YrRxcA48SEUq",
        "outputId": "cba3e917-3c3e-48ef-b6c8-ecfd6a379492"
      },
      "execution_count": null,
      "outputs": [
        {
          "output_type": "execute_result",
          "data": {
            "text/plain": [
              "   Pclass   Age  SibSp  Parch  Sex\n",
              "0       3  22.0      1      0    0\n",
              "1       1  38.0      1      0    1\n",
              "2       3  26.0      0      0    1\n",
              "3       1  35.0      1      0    1\n",
              "4       3  35.0      0      0    0"
            ],
            "text/html": [
              "\n",
              "  <div id=\"df-da14382d-5e0f-4836-b412-5ebf48e9ecef\">\n",
              "    <div class=\"colab-df-container\">\n",
              "      <div>\n",
              "<style scoped>\n",
              "    .dataframe tbody tr th:only-of-type {\n",
              "        vertical-align: middle;\n",
              "    }\n",
              "\n",
              "    .dataframe tbody tr th {\n",
              "        vertical-align: top;\n",
              "    }\n",
              "\n",
              "    .dataframe thead th {\n",
              "        text-align: right;\n",
              "    }\n",
              "</style>\n",
              "<table border=\"1\" class=\"dataframe\">\n",
              "  <thead>\n",
              "    <tr style=\"text-align: right;\">\n",
              "      <th></th>\n",
              "      <th>Pclass</th>\n",
              "      <th>Age</th>\n",
              "      <th>SibSp</th>\n",
              "      <th>Parch</th>\n",
              "      <th>Sex</th>\n",
              "    </tr>\n",
              "  </thead>\n",
              "  <tbody>\n",
              "    <tr>\n",
              "      <th>0</th>\n",
              "      <td>3</td>\n",
              "      <td>22.0</td>\n",
              "      <td>1</td>\n",
              "      <td>0</td>\n",
              "      <td>0</td>\n",
              "    </tr>\n",
              "    <tr>\n",
              "      <th>1</th>\n",
              "      <td>1</td>\n",
              "      <td>38.0</td>\n",
              "      <td>1</td>\n",
              "      <td>0</td>\n",
              "      <td>1</td>\n",
              "    </tr>\n",
              "    <tr>\n",
              "      <th>2</th>\n",
              "      <td>3</td>\n",
              "      <td>26.0</td>\n",
              "      <td>0</td>\n",
              "      <td>0</td>\n",
              "      <td>1</td>\n",
              "    </tr>\n",
              "    <tr>\n",
              "      <th>3</th>\n",
              "      <td>1</td>\n",
              "      <td>35.0</td>\n",
              "      <td>1</td>\n",
              "      <td>0</td>\n",
              "      <td>1</td>\n",
              "    </tr>\n",
              "    <tr>\n",
              "      <th>4</th>\n",
              "      <td>3</td>\n",
              "      <td>35.0</td>\n",
              "      <td>0</td>\n",
              "      <td>0</td>\n",
              "      <td>0</td>\n",
              "    </tr>\n",
              "  </tbody>\n",
              "</table>\n",
              "</div>\n",
              "      <button class=\"colab-df-convert\" onclick=\"convertToInteractive('df-da14382d-5e0f-4836-b412-5ebf48e9ecef')\"\n",
              "              title=\"Convert this dataframe to an interactive table.\"\n",
              "              style=\"display:none;\">\n",
              "        \n",
              "  <svg xmlns=\"http://www.w3.org/2000/svg\" height=\"24px\"viewBox=\"0 0 24 24\"\n",
              "       width=\"24px\">\n",
              "    <path d=\"M0 0h24v24H0V0z\" fill=\"none\"/>\n",
              "    <path d=\"M18.56 5.44l.94 2.06.94-2.06 2.06-.94-2.06-.94-.94-2.06-.94 2.06-2.06.94zm-11 1L8.5 8.5l.94-2.06 2.06-.94-2.06-.94L8.5 2.5l-.94 2.06-2.06.94zm10 10l.94 2.06.94-2.06 2.06-.94-2.06-.94-.94-2.06-.94 2.06-2.06.94z\"/><path d=\"M17.41 7.96l-1.37-1.37c-.4-.4-.92-.59-1.43-.59-.52 0-1.04.2-1.43.59L10.3 9.45l-7.72 7.72c-.78.78-.78 2.05 0 2.83L4 21.41c.39.39.9.59 1.41.59.51 0 1.02-.2 1.41-.59l7.78-7.78 2.81-2.81c.8-.78.8-2.07 0-2.86zM5.41 20L4 18.59l7.72-7.72 1.47 1.35L5.41 20z\"/>\n",
              "  </svg>\n",
              "      </button>\n",
              "      \n",
              "  <style>\n",
              "    .colab-df-container {\n",
              "      display:flex;\n",
              "      flex-wrap:wrap;\n",
              "      gap: 12px;\n",
              "    }\n",
              "\n",
              "    .colab-df-convert {\n",
              "      background-color: #E8F0FE;\n",
              "      border: none;\n",
              "      border-radius: 50%;\n",
              "      cursor: pointer;\n",
              "      display: none;\n",
              "      fill: #1967D2;\n",
              "      height: 32px;\n",
              "      padding: 0 0 0 0;\n",
              "      width: 32px;\n",
              "    }\n",
              "\n",
              "    .colab-df-convert:hover {\n",
              "      background-color: #E2EBFA;\n",
              "      box-shadow: 0px 1px 2px rgba(60, 64, 67, 0.3), 0px 1px 3px 1px rgba(60, 64, 67, 0.15);\n",
              "      fill: #174EA6;\n",
              "    }\n",
              "\n",
              "    [theme=dark] .colab-df-convert {\n",
              "      background-color: #3B4455;\n",
              "      fill: #D2E3FC;\n",
              "    }\n",
              "\n",
              "    [theme=dark] .colab-df-convert:hover {\n",
              "      background-color: #434B5C;\n",
              "      box-shadow: 0px 1px 3px 1px rgba(0, 0, 0, 0.15);\n",
              "      filter: drop-shadow(0px 1px 2px rgba(0, 0, 0, 0.3));\n",
              "      fill: #FFFFFF;\n",
              "    }\n",
              "  </style>\n",
              "\n",
              "      <script>\n",
              "        const buttonEl =\n",
              "          document.querySelector('#df-da14382d-5e0f-4836-b412-5ebf48e9ecef button.colab-df-convert');\n",
              "        buttonEl.style.display =\n",
              "          google.colab.kernel.accessAllowed ? 'block' : 'none';\n",
              "\n",
              "        async function convertToInteractive(key) {\n",
              "          const element = document.querySelector('#df-da14382d-5e0f-4836-b412-5ebf48e9ecef');\n",
              "          const dataTable =\n",
              "            await google.colab.kernel.invokeFunction('convertToInteractive',\n",
              "                                                     [key], {});\n",
              "          if (!dataTable) return;\n",
              "\n",
              "          const docLinkHtml = 'Like what you see? Visit the ' +\n",
              "            '<a target=\"_blank\" href=https://colab.research.google.com/notebooks/data_table.ipynb>data table notebook</a>'\n",
              "            + ' to learn more about interactive tables.';\n",
              "          element.innerHTML = '';\n",
              "          dataTable['output_type'] = 'display_data';\n",
              "          await google.colab.output.renderOutput(dataTable, element);\n",
              "          const docLink = document.createElement('div');\n",
              "          docLink.innerHTML = docLinkHtml;\n",
              "          element.appendChild(docLink);\n",
              "        }\n",
              "      </script>\n",
              "    </div>\n",
              "  </div>\n",
              "  "
            ]
          },
          "metadata": {},
          "execution_count": 19
        }
      ]
    },
    {
      "cell_type": "code",
      "source": [
        "# Try out a pairplot colored by class\n",
        "import seaborn as sns\n",
        "sns.pairplot(features, hue='Pclass')"
      ],
      "metadata": {
        "colab": {
          "base_uri": "https://localhost:8080/"
        },
        "id": "QzlDBVGrTc8G",
        "outputId": "ff28b569-de36-4d08-94ac-22ed8cc2baaa"
      },
      "execution_count": null,
      "outputs": [
        {
          "output_type": "execute_result",
          "data": {
            "text/plain": [
              "<seaborn.axisgrid.PairGrid at 0x7fc21f774a10>"
            ]
          },
          "metadata": {},
          "execution_count": 20
        },
        {
          "output_type": "display_data",
          "data": {
            "text/plain": [
              "<Figure size 762.375x720 with 20 Axes>"
            ],
            "image/png": "[encoded data removed]"
          },
          "metadata": {
            "needs_background": "light"
          }
        }
      ]
    },
    {
      "cell_type": "markdown",
      "source": [
        "###Random Forest"
      ],
      "metadata": {
        "id": "Da15FEJQUQPM"
      }
    },
    {
      "cell_type": "code",
      "source": [
        "# Train up a random forest model with post pruning\n",
        "forest = RandomForestClassifier(ccp_alpha=0.01, max_features=3)\n",
        "forest.fit(features, targets)\n",
        "scoring = ['accuracy','precision', 'recall', 'f1']\n",
        "scores = cross_validate(forest, features, targets, scoring=scoring, return_train_score=True, cv=5)\n",
        "results = pd.DataFrame(scores)\n",
        "results.mean()"
      ],
      "metadata": {
        "colab": {
          "base_uri": "https://localhost:8080/"
        },
        "id": "huD-IIYaThoc",
        "outputId": "80b6eddf-36be-41ca-f475-eea6d97493db"
      },
      "execution_count": null,
      "outputs": [
        {
          "output_type": "execute_result",
          "data": {
            "text/plain": [
              "fit_time           0.137715\n",
              "score_time         0.014314\n",
              "test_accuracy      0.809234\n",
              "train_accuracy     0.827720\n",
              "test_precision     0.826505\n",
              "train_precision    0.840768\n",
              "test_recall        0.643564\n",
              "train_recall       0.687056\n",
              "test_f1            0.717834\n",
              "train_f1           0.752625\n",
              "dtype: float64"
            ]
          },
          "metadata": {},
          "execution_count": 21
        }
      ]
    },
    {
      "cell_type": "code",
      "source": [
        "# Train up a random forest model with more aggressive post pruning\n",
        "forest = RandomForestClassifier(ccp_alpha=0.02, max_features=3)\n",
        "forest.fit(features, targets)\n",
        "scoring = ['accuracy','precision', 'recall', 'f1']\n",
        "scores = cross_validate(forest, features, targets, scoring=scoring, return_train_score=True, cv=5)\n",
        "results = pd.DataFrame(scores)\n",
        "results.mean()\n",
        "\n",
        "# Performance is a bit worse"
      ],
      "metadata": {
        "colab": {
          "base_uri": "https://localhost:8080/"
        },
        "id": "dlzZwHp1Uazr",
        "outputId": "fa101b14-a477-44ad-c4df-527394eb33e7"
      },
      "execution_count": null,
      "outputs": [
        {
          "output_type": "execute_result",
          "data": {
            "text/plain": [
              "fit_time           0.138571\n",
              "score_time         0.013444\n",
              "test_accuracy      0.783366\n",
              "train_accuracy     0.793212\n",
              "test_precision     0.765105\n",
              "train_precision    0.794651\n",
              "test_recall        0.637127\n",
              "train_recall       0.645512\n",
              "test_f1            0.691272\n",
              "train_f1           0.703327\n",
              "dtype: float64"
            ]
          },
          "metadata": {},
          "execution_count": 22
        }
      ]
    },
    {
      "cell_type": "code",
      "source": [
        "# Train up a random forest model with less agressive post pruning\n",
        "forest = RandomForestClassifier(ccp_alpha=0.005, max_features=3)\n",
        "forest.fit(features, targets)\n",
        "scoring = ['accuracy','precision', 'recall', 'f1']\n",
        "scores = cross_validate(forest, features, targets, scoring=scoring, return_train_score=True, cv=5)\n",
        "results = pd.DataFrame(scores)\n",
        "results.mean()\n"
      ],
      "metadata": {
        "colab": {
          "base_uri": "https://localhost:8080/"
        },
        "id": "MfKX0STKUgX_",
        "outputId": "289c9f07-4928-412a-eda1-d8402e030746"
      },
      "execution_count": null,
      "outputs": [
        {
          "output_type": "execute_result",
          "data": {
            "text/plain": [
              "fit_time           0.135099\n",
              "score_time         0.013688\n",
              "test_accuracy      0.827155\n",
              "train_accuracy     0.839788\n",
              "test_precision     0.828315\n",
              "train_precision    0.851295\n",
              "test_recall        0.692754\n",
              "train_recall       0.706847\n",
              "test_f1            0.753183\n",
              "train_f1           0.771971\n",
              "dtype: float64"
            ]
          },
          "metadata": {},
          "execution_count": 23
        }
      ]
    },
    {
      "cell_type": "code",
      "source": [
        "# Pick the original model\n",
        "forest = RandomForestClassifier(ccp_alpha=0.01, max_features=3)\n",
        "forest.fit(features, targets)\n",
        "scoring = ['accuracy','precision', 'recall', 'f1']\n",
        "scores = cross_validate(forest, features, targets, scoring=scoring, return_train_score=True, cv=5)\n",
        "results = pd.DataFrame(scores)\n",
        "results.mean()"
      ],
      "metadata": {
        "colab": {
          "base_uri": "https://localhost:8080/"
        },
        "id": "frW1I5GMUkhy",
        "outputId": "aaec84d4-f36b-4e6d-ed54-8f2d32429c53"
      },
      "execution_count": null,
      "outputs": [
        {
          "output_type": "execute_result",
          "data": {
            "text/plain": [
              "fit_time           0.137062\n",
              "score_time         0.013764\n",
              "test_accuracy      0.808110\n",
              "train_accuracy     0.828283\n",
              "test_precision     0.829763\n",
              "train_precision    0.850364\n",
              "test_recall        0.634697\n",
              "train_recall       0.679035\n",
              "test_f1            0.714372\n",
              "train_f1           0.751312\n",
              "dtype: float64"
            ]
          },
          "metadata": {},
          "execution_count": 24
        }
      ]
    },
    {
      "cell_type": "code",
      "source": [
        "# Finally apply the model to predict values on the test set\n",
        "fitmodel = forest.fit(features, targets)\n",
        "preds = fitmodel.predict(test_features)\n",
        "# Build a result set with the passengerid and the predicted survived column\n",
        "result = pd.DataFrame(test[\"PassengerId\"])\n",
        "result[\"Survived\"] = preds\n",
        "result.head()"
      ],
      "metadata": {
        "colab": {
          "base_uri": "https://localhost:8080/",
          "height": 206
        },
        "id": "1LcCAvVsUpc8",
        "outputId": "e44a46d4-45a3-40cb-a97e-624d84397ef3"
      },
      "execution_count": null,
      "outputs": [
        {
          "output_type": "execute_result",
          "data": {
            "text/plain": [
              "   PassengerId  Survived\n",
              "0          892         0\n",
              "1          893         1\n",
              "2          894         0\n",
              "3          895         0\n",
              "4          896         1"
            ],
            "text/html": [
              "\n",
              "  <div id=\"df-6f76fe93-5114-4d12-98df-770a50e214a8\">\n",
              "    <div class=\"colab-df-container\">\n",
              "      <div>\n",
              "<style scoped>\n",
              "    .dataframe tbody tr th:only-of-type {\n",
              "        vertical-align: middle;\n",
              "    }\n",
              "\n",
              "    .dataframe tbody tr th {\n",
              "        vertical-align: top;\n",
              "    }\n",
              "\n",
              "    .dataframe thead th {\n",
              "        text-align: right;\n",
              "    }\n",
              "</style>\n",
              "<table border=\"1\" class=\"dataframe\">\n",
              "  <thead>\n",
              "    <tr style=\"text-align: right;\">\n",
              "      <th></th>\n",
              "      <th>PassengerId</th>\n",
              "      <th>Survived</th>\n",
              "    </tr>\n",
              "  </thead>\n",
              "  <tbody>\n",
              "    <tr>\n",
              "      <th>0</th>\n",
              "      <td>892</td>\n",
              "      <td>0</td>\n",
              "    </tr>\n",
              "    <tr>\n",
              "      <th>1</th>\n",
              "      <td>893</td>\n",
              "      <td>1</td>\n",
              "    </tr>\n",
              "    <tr>\n",
              "      <th>2</th>\n",
              "      <td>894</td>\n",
              "      <td>0</td>\n",
              "    </tr>\n",
              "    <tr>\n",
              "      <th>3</th>\n",
              "      <td>895</td>\n",
              "      <td>0</td>\n",
              "    </tr>\n",
              "    <tr>\n",
              "      <th>4</th>\n",
              "      <td>896</td>\n",
              "      <td>1</td>\n",
              "    </tr>\n",
              "  </tbody>\n",
              "</table>\n",
              "</div>\n",
              "      <button class=\"colab-df-convert\" onclick=\"convertToInteractive('df-6f76fe93-5114-4d12-98df-770a50e214a8')\"\n",
              "              title=\"Convert this dataframe to an interactive table.\"\n",
              "              style=\"display:none;\">\n",
              "        \n",
              "  <svg xmlns=\"http://www.w3.org/2000/svg\" height=\"24px\"viewBox=\"0 0 24 24\"\n",
              "       width=\"24px\">\n",
              "    <path d=\"M0 0h24v24H0V0z\" fill=\"none\"/>\n",
              "    <path d=\"M18.56 5.44l.94 2.06.94-2.06 2.06-.94-2.06-.94-.94-2.06-.94 2.06-2.06.94zm-11 1L8.5 8.5l.94-2.06 2.06-.94-2.06-.94L8.5 2.5l-.94 2.06-2.06.94zm10 10l.94 2.06.94-2.06 2.06-.94-2.06-.94-.94-2.06-.94 2.06-2.06.94z\"/><path d=\"M17.41 7.96l-1.37-1.37c-.4-.4-.92-.59-1.43-.59-.52 0-1.04.2-1.43.59L10.3 9.45l-7.72 7.72c-.78.78-.78 2.05 0 2.83L4 21.41c.39.39.9.59 1.41.59.51 0 1.02-.2 1.41-.59l7.78-7.78 2.81-2.81c.8-.78.8-2.07 0-2.86zM5.41 20L4 18.59l7.72-7.72 1.47 1.35L5.41 20z\"/>\n",
              "  </svg>\n",
              "      </button>\n",
              "      \n",
              "  <style>\n",
              "    .colab-df-container {\n",
              "      display:flex;\n",
              "      flex-wrap:wrap;\n",
              "      gap: 12px;\n",
              "    }\n",
              "\n",
              "    .colab-df-convert {\n",
              "      background-color: #E8F0FE;\n",
              "      border: none;\n",
              "      border-radius: 50%;\n",
              "      cursor: pointer;\n",
              "      display: none;\n",
              "      fill: #1967D2;\n",
              "      height: 32px;\n",
              "      padding: 0 0 0 0;\n",
              "      width: 32px;\n",
              "    }\n",
              "\n",
              "    .colab-df-convert:hover {\n",
              "      background-color: #E2EBFA;\n",
              "      box-shadow: 0px 1px 2px rgba(60, 64, 67, 0.3), 0px 1px 3px 1px rgba(60, 64, 67, 0.15);\n",
              "      fill: #174EA6;\n",
              "    }\n",
              "\n",
              "    [theme=dark] .colab-df-convert {\n",
              "      background-color: #3B4455;\n",
              "      fill: #D2E3FC;\n",
              "    }\n",
              "\n",
              "    [theme=dark] .colab-df-convert:hover {\n",
              "      background-color: #434B5C;\n",
              "      box-shadow: 0px 1px 3px 1px rgba(0, 0, 0, 0.15);\n",
              "      filter: drop-shadow(0px 1px 2px rgba(0, 0, 0, 0.3));\n",
              "      fill: #FFFFFF;\n",
              "    }\n",
              "  </style>\n",
              "\n",
              "      <script>\n",
              "        const buttonEl =\n",
              "          document.querySelector('#df-6f76fe93-5114-4d12-98df-770a50e214a8 button.colab-df-convert');\n",
              "        buttonEl.style.display =\n",
              "          google.colab.kernel.accessAllowed ? 'block' : 'none';\n",
              "\n",
              "        async function convertToInteractive(key) {\n",
              "          const element = document.querySelector('#df-6f76fe93-5114-4d12-98df-770a50e214a8');\n",
              "          const dataTable =\n",
              "            await google.colab.kernel.invokeFunction('convertToInteractive',\n",
              "                                                     [key], {});\n",
              "          if (!dataTable) return;\n",
              "\n",
              "          const docLinkHtml = 'Like what you see? Visit the ' +\n",
              "            '<a target=\"_blank\" href=https://colab.research.google.com/notebooks/data_table.ipynb>data table notebook</a>'\n",
              "            + ' to learn more about interactive tables.';\n",
              "          element.innerHTML = '';\n",
              "          dataTable['output_type'] = 'display_data';\n",
              "          await google.colab.output.renderOutput(dataTable, element);\n",
              "          const docLink = document.createElement('div');\n",
              "          docLink.innerHTML = docLinkHtml;\n",
              "          element.appendChild(docLink);\n",
              "        }\n",
              "      </script>\n",
              "    </div>\n",
              "  </div>\n",
              "  "
            ]
          },
          "metadata": {},
          "execution_count": 25
        }
      ]
    },
    {
      "cell_type": "code",
      "source": [
        "# Output to a csv\n",
        "# Note on Kaggle also use 'result.csv' as your path\n",
        "result.to_csv('result.csv', sep=\",\", index = False)"
      ],
      "metadata": {
        "id": "qYRc81r2UtDd"
      },
      "execution_count": null,
      "outputs": []
    },
    {
      "cell_type": "markdown",
      "source": [
        "###Decision tree"
      ],
      "metadata": {
        "id": "kYyxCiNY-zOS"
      }
    },
    {
      "cell_type": "code",
      "source": [
        "# Train up a decision tree model with post pruning\n",
        "tree = DecisionTreeClassifier(ccp_alpha=0.01, max_features=4)\n",
        "tree.fit(features, targets)\n",
        "scoring = ['accuracy','precision', 'recall', 'f1']\n",
        "scores = cross_validate(tree, features, targets, scoring=scoring, return_train_score=True, cv=5)\n",
        "results = pd.DataFrame(scores)\n",
        "results.mean()"
      ],
      "metadata": {
        "colab": {
          "base_uri": "https://localhost:8080/"
        },
        "id": "dGVhq7BIVcHb",
        "outputId": "b1c7f0d4-68fc-4e91-8bba-dac626849626"
      },
      "execution_count": null,
      "outputs": [
        {
          "output_type": "execute_result",
          "data": {
            "text/plain": [
              "fit_time           0.003281\n",
              "score_time         0.004358\n",
              "test_accuracy      0.780064\n",
              "train_accuracy     0.801068\n",
              "test_precision     0.794469\n",
              "train_precision    0.832186\n",
              "test_recall        0.590963\n",
              "train_recall       0.631550\n",
              "test_f1            0.668178\n",
              "train_f1           0.705433\n",
              "dtype: float64"
            ]
          },
          "metadata": {},
          "execution_count": 27
        }
      ]
    },
    {
      "cell_type": "code",
      "source": [
        "# Train up a decision tree model with more aggressive post pruning\n",
        "tree = DecisionTreeClassifier(ccp_alpha=0.02, max_features=4)\n",
        "tree.fit(features, targets)\n",
        "scoring = ['accuracy','precision', 'recall', 'f1']\n",
        "scores = cross_validate(tree, features, targets, scoring=scoring, return_train_score=True, cv=5)\n",
        "results = pd.DataFrame(scores)\n",
        "results.mean()"
      ],
      "metadata": {
        "colab": {
          "base_uri": "https://localhost:8080/"
        },
        "id": "P-Gw8O4p-8B0",
        "outputId": "1c76173a-13e5-4746-a2d8-f293be2d0ade"
      },
      "execution_count": null,
      "outputs": [
        {
          "output_type": "execute_result",
          "data": {
            "text/plain": [
              "fit_time           0.002812\n",
              "score_time         0.003487\n",
              "test_accuracy      0.784489\n",
              "train_accuracy     0.789844\n",
              "test_precision     0.771000\n",
              "train_precision    0.795015\n",
              "test_recall        0.634228\n",
              "train_recall       0.636015\n",
              "test_f1            0.691670\n",
              "train_f1           0.695436\n",
              "dtype: float64"
            ]
          },
          "metadata": {},
          "execution_count": 28
        }
      ]
    },
    {
      "cell_type": "code",
      "source": [
        "# Train up a decision tree model with less agressive post pruning\n",
        "tree = DecisionTreeClassifier(ccp_alpha=0.005, max_features=4)\n",
        "tree.fit(features, targets)\n",
        "scoring = ['accuracy','precision', 'recall', 'f1']\n",
        "scores = cross_validate(tree, features, targets, scoring=scoring, return_train_score=True, cv=5)\n",
        "results = pd.DataFrame(scores)\n",
        "results.mean()"
      ],
      "metadata": {
        "colab": {
          "base_uri": "https://localhost:8080/"
        },
        "id": "WCjzSbJdAA6B",
        "outputId": "50f5607a-8d23-4e25-fc3c-a37acedfbef5"
      },
      "execution_count": null,
      "outputs": [
        {
          "output_type": "execute_result",
          "data": {
            "text/plain": [
              "fit_time           0.003189\n",
              "score_time         0.003653\n",
              "test_accuracy      0.794671\n",
              "train_accuracy     0.824634\n",
              "test_precision     0.787636\n",
              "train_precision    0.833138\n",
              "test_recall        0.637639\n",
              "train_recall       0.689257\n",
              "test_f1            0.698713\n",
              "train_f1           0.749785\n",
              "dtype: float64"
            ]
          },
          "metadata": {},
          "execution_count": 29
        }
      ]
    },
    {
      "cell_type": "code",
      "source": [
        "# Pick the original model\n",
        "tree = DecisionTreeClassifier(ccp_alpha=0.01, max_features=4)\n",
        "tree.fit(features, targets)\n",
        "scoring = ['accuracy','precision', 'recall', 'f1']\n",
        "scores = cross_validate(tree, features, targets, scoring=scoring, return_train_score=True, cv=5)\n",
        "results = pd.DataFrame(scores)\n",
        "results.mean()"
      ],
      "metadata": {
        "colab": {
          "base_uri": "https://localhost:8080/"
        },
        "id": "ynGr6Q6xAD2z",
        "outputId": "20e176d2-bfe6-4cd4-e844-7b139312585e"
      },
      "execution_count": null,
      "outputs": [
        {
          "output_type": "execute_result",
          "data": {
            "text/plain": [
              "fit_time           0.002376\n",
              "score_time         0.003950\n",
              "test_accuracy      0.781188\n",
              "train_accuracy     0.805275\n",
              "test_precision     0.788376\n",
              "train_precision    0.830374\n",
              "test_recall        0.605371\n",
              "train_recall       0.649825\n",
              "test_f1            0.672680\n",
              "train_f1           0.715228\n",
              "dtype: float64"
            ]
          },
          "metadata": {},
          "execution_count": 30
        }
      ]
    },
    {
      "cell_type": "code",
      "source": [
        "# Finally apply the model to predict values on the test set\n",
        "fitmodel = tree.fit(features, targets)\n",
        "preds = fitmodel.predict(test_features)\n",
        "# Build a result set with the passengerid and the predicted survived column\n",
        "result1 = pd.DataFrame(test[\"PassengerId\"])\n",
        "result1[\"Survived\"] = preds\n",
        "result1.head()"
      ],
      "metadata": {
        "colab": {
          "base_uri": "https://localhost:8080/",
          "height": 206
        },
        "id": "kVdl8HrQAbyk",
        "outputId": "37f9339f-4972-434b-df9c-2537ba5fd02b"
      },
      "execution_count": null,
      "outputs": [
        {
          "output_type": "execute_result",
          "data": {
            "text/plain": [
              "   PassengerId  Survived\n",
              "0          892         0\n",
              "1          893         1\n",
              "2          894         0\n",
              "3          895         0\n",
              "4          896         1"
            ],
            "text/html": [
              "\n",
              "  <div id=\"df-c6641b33-e140-4446-8635-88abe9fa39f4\">\n",
              "    <div class=\"colab-df-container\">\n",
              "      <div>\n",
              "<style scoped>\n",
              "    .dataframe tbody tr th:only-of-type {\n",
              "        vertical-align: middle;\n",
              "    }\n",
              "\n",
              "    .dataframe tbody tr th {\n",
              "        vertical-align: top;\n",
              "    }\n",
              "\n",
              "    .dataframe thead th {\n",
              "        text-align: right;\n",
              "    }\n",
              "</style>\n",
              "<table border=\"1\" class=\"dataframe\">\n",
              "  <thead>\n",
              "    <tr style=\"text-align: right;\">\n",
              "      <th></th>\n",
              "      <th>PassengerId</th>\n",
              "      <th>Survived</th>\n",
              "    </tr>\n",
              "  </thead>\n",
              "  <tbody>\n",
              "    <tr>\n",
              "      <th>0</th>\n",
              "      <td>892</td>\n",
              "      <td>0</td>\n",
              "    </tr>\n",
              "    <tr>\n",
              "      <th>1</th>\n",
              "      <td>893</td>\n",
              "      <td>1</td>\n",
              "    </tr>\n",
              "    <tr>\n",
              "      <th>2</th>\n",
              "      <td>894</td>\n",
              "      <td>0</td>\n",
              "    </tr>\n",
              "    <tr>\n",
              "      <th>3</th>\n",
              "      <td>895</td>\n",
              "      <td>0</td>\n",
              "    </tr>\n",
              "    <tr>\n",
              "      <th>4</th>\n",
              "      <td>896</td>\n",
              "      <td>1</td>\n",
              "    </tr>\n",
              "  </tbody>\n",
              "</table>\n",
              "</div>\n",
              "      <button class=\"colab-df-convert\" onclick=\"convertToInteractive('df-c6641b33-e140-4446-8635-88abe9fa39f4')\"\n",
              "              title=\"Convert this dataframe to an interactive table.\"\n",
              "              style=\"display:none;\">\n",
              "        \n",
              "  <svg xmlns=\"http://www.w3.org/2000/svg\" height=\"24px\"viewBox=\"0 0 24 24\"\n",
              "       width=\"24px\">\n",
              "    <path d=\"M0 0h24v24H0V0z\" fill=\"none\"/>\n",
              "    <path d=\"M18.56 5.44l.94 2.06.94-2.06 2.06-.94-2.06-.94-.94-2.06-.94 2.06-2.06.94zm-11 1L8.5 8.5l.94-2.06 2.06-.94-2.06-.94L8.5 2.5l-.94 2.06-2.06.94zm10 10l.94 2.06.94-2.06 2.06-.94-2.06-.94-.94-2.06-.94 2.06-2.06.94z\"/><path d=\"M17.41 7.96l-1.37-1.37c-.4-.4-.92-.59-1.43-.59-.52 0-1.04.2-1.43.59L10.3 9.45l-7.72 7.72c-.78.78-.78 2.05 0 2.83L4 21.41c.39.39.9.59 1.41.59.51 0 1.02-.2 1.41-.59l7.78-7.78 2.81-2.81c.8-.78.8-2.07 0-2.86zM5.41 20L4 18.59l7.72-7.72 1.47 1.35L5.41 20z\"/>\n",
              "  </svg>\n",
              "      </button>\n",
              "      \n",
              "  <style>\n",
              "    .colab-df-container {\n",
              "      display:flex;\n",
              "      flex-wrap:wrap;\n",
              "      gap: 12px;\n",
              "    }\n",
              "\n",
              "    .colab-df-convert {\n",
              "      background-color: #E8F0FE;\n",
              "      border: none;\n",
              "      border-radius: 50%;\n",
              "      cursor: pointer;\n",
              "      display: none;\n",
              "      fill: #1967D2;\n",
              "      height: 32px;\n",
              "      padding: 0 0 0 0;\n",
              "      width: 32px;\n",
              "    }\n",
              "\n",
              "    .colab-df-convert:hover {\n",
              "      background-color: #E2EBFA;\n",
              "      box-shadow: 0px 1px 2px rgba(60, 64, 67, 0.3), 0px 1px 3px 1px rgba(60, 64, 67, 0.15);\n",
              "      fill: #174EA6;\n",
              "    }\n",
              "\n",
              "    [theme=dark] .colab-df-convert {\n",
              "      background-color: #3B4455;\n",
              "      fill: #D2E3FC;\n",
              "    }\n",
              "\n",
              "    [theme=dark] .colab-df-convert:hover {\n",
              "      background-color: #434B5C;\n",
              "      box-shadow: 0px 1px 3px 1px rgba(0, 0, 0, 0.15);\n",
              "      filter: drop-shadow(0px 1px 2px rgba(0, 0, 0, 0.3));\n",
              "      fill: #FFFFFF;\n",
              "    }\n",
              "  </style>\n",
              "\n",
              "      <script>\n",
              "        const buttonEl =\n",
              "          document.querySelector('#df-c6641b33-e140-4446-8635-88abe9fa39f4 button.colab-df-convert');\n",
              "        buttonEl.style.display =\n",
              "          google.colab.kernel.accessAllowed ? 'block' : 'none';\n",
              "\n",
              "        async function convertToInteractive(key) {\n",
              "          const element = document.querySelector('#df-c6641b33-e140-4446-8635-88abe9fa39f4');\n",
              "          const dataTable =\n",
              "            await google.colab.kernel.invokeFunction('convertToInteractive',\n",
              "                                                     [key], {});\n",
              "          if (!dataTable) return;\n",
              "\n",
              "          const docLinkHtml = 'Like what you see? Visit the ' +\n",
              "            '<a target=\"_blank\" href=https://colab.research.google.com/notebooks/data_table.ipynb>data table notebook</a>'\n",
              "            + ' to learn more about interactive tables.';\n",
              "          element.innerHTML = '';\n",
              "          dataTable['output_type'] = 'display_data';\n",
              "          await google.colab.output.renderOutput(dataTable, element);\n",
              "          const docLink = document.createElement('div');\n",
              "          docLink.innerHTML = docLinkHtml;\n",
              "          element.appendChild(docLink);\n",
              "        }\n",
              "      </script>\n",
              "    </div>\n",
              "  </div>\n",
              "  "
            ]
          },
          "metadata": {},
          "execution_count": 31
        }
      ]
    },
    {
      "cell_type": "code",
      "source": [
        "# Output to a csv\n",
        "# Note on Kaggle also use 'result.csv' as your path\n",
        "result1.to_csv('result1.csv', sep=\",\", index = False)"
      ],
      "metadata": {
        "id": "8VbGpChuAeB7"
      },
      "execution_count": null,
      "outputs": []
    },
    {
      "cell_type": "markdown",
      "source": [
        "###K-Nearest Neighbors"
      ],
      "metadata": {
        "id": "73PVZg65AiwD"
      }
    },
    {
      "cell_type": "code",
      "source": [
        "# Train up a K-nearest neighbours model with post pruning\n",
        "knn_model = KNeighborsClassifier(n_neighbors = 5)\n",
        "knn_model.fit(features, targets)\n",
        "scoring = ['accuracy','precision', 'recall', 'f1']\n",
        "scores = cross_validate(knn_model, features, targets, scoring=scoring, return_train_score=True, cv=5)\n",
        "results = pd.DataFrame(scores)\n",
        "results.mean()"
      ],
      "metadata": {
        "colab": {
          "base_uri": "https://localhost:8080/"
        },
        "id": "WHymbflmAhI9",
        "outputId": "b504539e-08be-40ad-8a53-3bd131a15aa1"
      },
      "execution_count": null,
      "outputs": [
        {
          "output_type": "execute_result",
          "data": {
            "text/plain": [
              "fit_time           0.002384\n",
              "score_time         0.007339\n",
              "test_accuracy      0.789015\n",
              "train_accuracy     0.847923\n",
              "test_precision     0.762216\n",
              "train_precision    0.838298\n",
              "test_recall        0.660742\n",
              "train_recall       0.748536\n",
              "test_f1            0.706801\n",
              "train_f1           0.790539\n",
              "dtype: float64"
            ]
          },
          "metadata": {},
          "execution_count": 33
        }
      ]
    },
    {
      "cell_type": "code",
      "source": [
        "# Train up a K-nearest neighbours model with more aggressive post pruning\n",
        "knn_model = KNeighborsClassifier(n_neighbors = 5)\n",
        "knn_model.fit(features, targets)\n",
        "scoring = ['accuracy','precision', 'recall', 'f1']\n",
        "scores = cross_validate(knn_model, features, targets, scoring=scoring, return_train_score=True, cv=5)\n",
        "results = pd.DataFrame(scores)\n",
        "results.mean()"
      ],
      "metadata": {
        "colab": {
          "base_uri": "https://localhost:8080/"
        },
        "id": "YiizstZaAnZ7",
        "outputId": "c511b188-19c7-4564-9e92-4b1376e7150c"
      },
      "execution_count": null,
      "outputs": [
        {
          "output_type": "execute_result",
          "data": {
            "text/plain": [
              "fit_time           0.002895\n",
              "score_time         0.008111\n",
              "test_accuracy      0.789015\n",
              "train_accuracy     0.847923\n",
              "test_precision     0.762216\n",
              "train_precision    0.838298\n",
              "test_recall        0.660742\n",
              "train_recall       0.748536\n",
              "test_f1            0.706801\n",
              "train_f1           0.790539\n",
              "dtype: float64"
            ]
          },
          "metadata": {},
          "execution_count": 34
        }
      ]
    },
    {
      "cell_type": "code",
      "source": [
        "# Train up a K-nearest neighbours model with less agressive post pruning\n",
        "knn_model = KNeighborsClassifier(n_neighbors = 5)\n",
        "knn_model.fit(features, targets)\n",
        "scoring = ['accuracy','precision', 'recall', 'f1']\n",
        "scores = cross_validate(knn_model, features, targets, scoring=scoring, return_train_score=True, cv=5)\n",
        "results = pd.DataFrame(scores)\n",
        "results.mean()"
      ],
      "metadata": {
        "colab": {
          "base_uri": "https://localhost:8080/"
        },
        "id": "QKJLGBx5AqTz",
        "outputId": "2ccd087c-f25d-4624-cd71-7ab1903c07f9"
      },
      "execution_count": null,
      "outputs": [
        {
          "output_type": "execute_result",
          "data": {
            "text/plain": [
              "fit_time           0.002727\n",
              "score_time         0.009218\n",
              "test_accuracy      0.789015\n",
              "train_accuracy     0.847923\n",
              "test_precision     0.762216\n",
              "train_precision    0.838298\n",
              "test_recall        0.660742\n",
              "train_recall       0.748536\n",
              "test_f1            0.706801\n",
              "train_f1           0.790539\n",
              "dtype: float64"
            ]
          },
          "metadata": {},
          "execution_count": 35
        }
      ]
    },
    {
      "cell_type": "code",
      "source": [
        "# Pick the original model\n",
        "knn_model = KNeighborsClassifier(n_neighbors = 5)\n",
        "knn_model.fit(features, targets)\n",
        "scoring = ['accuracy','precision', 'recall', 'f1']\n",
        "scores = cross_validate(knn_model, features, targets, scoring=scoring, return_train_score=True, cv=5)\n",
        "results = pd.DataFrame(scores)\n",
        "results.mean()"
      ],
      "metadata": {
        "colab": {
          "base_uri": "https://localhost:8080/"
        },
        "id": "tdZSKrKaAstR",
        "outputId": "1b7231b3-20ae-4c47-beea-1db7e534ebad"
      },
      "execution_count": null,
      "outputs": [
        {
          "output_type": "execute_result",
          "data": {
            "text/plain": [
              "fit_time           0.002927\n",
              "score_time         0.009765\n",
              "test_accuracy      0.789015\n",
              "train_accuracy     0.847923\n",
              "test_precision     0.762216\n",
              "train_precision    0.838298\n",
              "test_recall        0.660742\n",
              "train_recall       0.748536\n",
              "test_f1            0.706801\n",
              "train_f1           0.790539\n",
              "dtype: float64"
            ]
          },
          "metadata": {},
          "execution_count": 36
        }
      ]
    },
    {
      "cell_type": "code",
      "source": [
        "# Finally apply the model to predict values on the test set\n",
        "fitmodel = knn_model.fit(features, targets)\n",
        "preds = fitmodel.predict(test_features)\n",
        "# Build a result set with the passengerid and the predicted survived column\n",
        "result2 = pd.DataFrame(test[\"PassengerId\"])\n",
        "result2[\"Survived\"] = preds\n",
        "result2.head()"
      ],
      "metadata": {
        "colab": {
          "base_uri": "https://localhost:8080/",
          "height": 206
        },
        "id": "yUrshHmfAu4b",
        "outputId": "88ef0abd-8c15-42e5-8d01-96fc2b8119f5"
      },
      "execution_count": null,
      "outputs": [
        {
          "output_type": "execute_result",
          "data": {
            "text/plain": [
              "   PassengerId  Survived\n",
              "0          892         0\n",
              "1          893         0\n",
              "2          894         0\n",
              "3          895         1\n",
              "4          896         1"
            ],
            "text/html": [
              "\n",
              "  <div id=\"df-b9e8645b-bf15-4585-906f-531e4a02ffb1\">\n",
              "    <div class=\"colab-df-container\">\n",
              "      <div>\n",
              "<style scoped>\n",
              "    .dataframe tbody tr th:only-of-type {\n",
              "        vertical-align: middle;\n",
              "    }\n",
              "\n",
              "    .dataframe tbody tr th {\n",
              "        vertical-align: top;\n",
              "    }\n",
              "\n",
              "    .dataframe thead th {\n",
              "        text-align: right;\n",
              "    }\n",
              "</style>\n",
              "<table border=\"1\" class=\"dataframe\">\n",
              "  <thead>\n",
              "    <tr style=\"text-align: right;\">\n",
              "      <th></th>\n",
              "      <th>PassengerId</th>\n",
              "      <th>Survived</th>\n",
              "    </tr>\n",
              "  </thead>\n",
              "  <tbody>\n",
              "    <tr>\n",
              "      <th>0</th>\n",
              "      <td>892</td>\n",
              "      <td>0</td>\n",
              "    </tr>\n",
              "    <tr>\n",
              "      <th>1</th>\n",
              "      <td>893</td>\n",
              "      <td>0</td>\n",
              "    </tr>\n",
              "    <tr>\n",
              "      <th>2</th>\n",
              "      <td>894</td>\n",
              "      <td>0</td>\n",
              "    </tr>\n",
              "    <tr>\n",
              "      <th>3</th>\n",
              "      <td>895</td>\n",
              "      <td>1</td>\n",
              "    </tr>\n",
              "    <tr>\n",
              "      <th>4</th>\n",
              "      <td>896</td>\n",
              "      <td>1</td>\n",
              "    </tr>\n",
              "  </tbody>\n",
              "</table>\n",
              "</div>\n",
              "      <button class=\"colab-df-convert\" onclick=\"convertToInteractive('df-b9e8645b-bf15-4585-906f-531e4a02ffb1')\"\n",
              "              title=\"Convert this dataframe to an interactive table.\"\n",
              "              style=\"display:none;\">\n",
              "        \n",
              "  <svg xmlns=\"http://www.w3.org/2000/svg\" height=\"24px\"viewBox=\"0 0 24 24\"\n",
              "       width=\"24px\">\n",
              "    <path d=\"M0 0h24v24H0V0z\" fill=\"none\"/>\n",
              "    <path d=\"M18.56 5.44l.94 2.06.94-2.06 2.06-.94-2.06-.94-.94-2.06-.94 2.06-2.06.94zm-11 1L8.5 8.5l.94-2.06 2.06-.94-2.06-.94L8.5 2.5l-.94 2.06-2.06.94zm10 10l.94 2.06.94-2.06 2.06-.94-2.06-.94-.94-2.06-.94 2.06-2.06.94z\"/><path d=\"M17.41 7.96l-1.37-1.37c-.4-.4-.92-.59-1.43-.59-.52 0-1.04.2-1.43.59L10.3 9.45l-7.72 7.72c-.78.78-.78 2.05 0 2.83L4 21.41c.39.39.9.59 1.41.59.51 0 1.02-.2 1.41-.59l7.78-7.78 2.81-2.81c.8-.78.8-2.07 0-2.86zM5.41 20L4 18.59l7.72-7.72 1.47 1.35L5.41 20z\"/>\n",
              "  </svg>\n",
              "      </button>\n",
              "      \n",
              "  <style>\n",
              "    .colab-df-container {\n",
              "      display:flex;\n",
              "      flex-wrap:wrap;\n",
              "      gap: 12px;\n",
              "    }\n",
              "\n",
              "    .colab-df-convert {\n",
              "      background-color: #E8F0FE;\n",
              "      border: none;\n",
              "      border-radius: 50%;\n",
              "      cursor: pointer;\n",
              "      display: none;\n",
              "      fill: #1967D2;\n",
              "      height: 32px;\n",
              "      padding: 0 0 0 0;\n",
              "      width: 32px;\n",
              "    }\n",
              "\n",
              "    .colab-df-convert:hover {\n",
              "      background-color: #E2EBFA;\n",
              "      box-shadow: 0px 1px 2px rgba(60, 64, 67, 0.3), 0px 1px 3px 1px rgba(60, 64, 67, 0.15);\n",
              "      fill: #174EA6;\n",
              "    }\n",
              "\n",
              "    [theme=dark] .colab-df-convert {\n",
              "      background-color: #3B4455;\n",
              "      fill: #D2E3FC;\n",
              "    }\n",
              "\n",
              "    [theme=dark] .colab-df-convert:hover {\n",
              "      background-color: #434B5C;\n",
              "      box-shadow: 0px 1px 3px 1px rgba(0, 0, 0, 0.15);\n",
              "      filter: drop-shadow(0px 1px 2px rgba(0, 0, 0, 0.3));\n",
              "      fill: #FFFFFF;\n",
              "    }\n",
              "  </style>\n",
              "\n",
              "      <script>\n",
              "        const buttonEl =\n",
              "          document.querySelector('#df-b9e8645b-bf15-4585-906f-531e4a02ffb1 button.colab-df-convert');\n",
              "        buttonEl.style.display =\n",
              "          google.colab.kernel.accessAllowed ? 'block' : 'none';\n",
              "\n",
              "        async function convertToInteractive(key) {\n",
              "          const element = document.querySelector('#df-b9e8645b-bf15-4585-906f-531e4a02ffb1');\n",
              "          const dataTable =\n",
              "            await google.colab.kernel.invokeFunction('convertToInteractive',\n",
              "                                                     [key], {});\n",
              "          if (!dataTable) return;\n",
              "\n",
              "          const docLinkHtml = 'Like what you see? Visit the ' +\n",
              "            '<a target=\"_blank\" href=https://colab.research.google.com/notebooks/data_table.ipynb>data table notebook</a>'\n",
              "            + ' to learn more about interactive tables.';\n",
              "          element.innerHTML = '';\n",
              "          dataTable['output_type'] = 'display_data';\n",
              "          await google.colab.output.renderOutput(dataTable, element);\n",
              "          const docLink = document.createElement('div');\n",
              "          docLink.innerHTML = docLinkHtml;\n",
              "          element.appendChild(docLink);\n",
              "        }\n",
              "      </script>\n",
              "    </div>\n",
              "  </div>\n",
              "  "
            ]
          },
          "metadata": {},
          "execution_count": 37
        }
      ]
    },
    {
      "cell_type": "code",
      "source": [
        "# Output to a csv\n",
        "# Note on Kaggle also use 'result.csv' as your path\n",
        "result2.to_csv('result2.csv', sep=\",\", index = False)"
      ],
      "metadata": {
        "id": "jcDT8J0HAw2E"
      },
      "execution_count": null,
      "outputs": []
    },
    {
      "cell_type": "markdown",
      "source": [
        "###Output\n",
        "\n",
        "\n",
        "*  [Result for Random Forest](https://drive.google.com/file/d/1WaYOqHFLIA1yTcxvI6NYXhTXvmgTsDBW/view?usp=sharing)\n",
        "*  [Result for Decision Tree](https://drive.google.com/file/d/1N2t97PrikI2YZWOextjEzELpkZvWRTyJ/view?usp=sharing)\n",
        "\n",
        "*   [Result for K-Nearest Neighbors](https://drive.google.com/file/d/1Cz1mhBCfOdv5R6ixaPJ4AXcMWDKRQoXM/view?usp=sharing)\n",
        "\n",
        "\n",
        "\n",
        "\n",
        "\n",
        "\n"
      ],
      "metadata": {
        "id": "bmJfyMXt-jSY"
      }
    },
    {
      "cell_type": "markdown",
      "source": [
        "##Kaggle results \n",
        "![image.png](data:image/png;base64,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)"
      ],
      "metadata": {
        "id": "ATQjx-7xKF4G"
      }
    }
  ]
}